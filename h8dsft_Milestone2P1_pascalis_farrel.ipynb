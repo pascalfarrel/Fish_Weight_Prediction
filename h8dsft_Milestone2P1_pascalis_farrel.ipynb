{
 "cells": [
  {
   "cell_type": "markdown",
   "metadata": {},
   "source": [
    "# Milestones 2\n",
    "\n",
    "---"
   ]
  },
  {
   "cell_type": "markdown",
   "metadata": {},
   "source": [
    "## Introduction"
   ]
  },
  {
   "cell_type": "markdown",
   "metadata": {},
   "source": [
    "> Perkenalkan nama saya Pascalis Farrel, student Hacktiv8 FTDS Batch 008."
   ]
  },
  {
   "cell_type": "markdown",
   "metadata": {},
   "source": [
    "### Dataset\n",
    "\n",
    "Dataset ini adalah catatan dari 7 spesies ikan umum yang berbeda dalam penjualan pasar ikan. Dengan dataset ini, model prediksi dapat dilakukan dengan menggunakan data yang ramah mesin dan perkiraan berat ikan dapat diprediksi. Dataset dapat dilihat di [kaggle](https://www.kaggle.com/aungpyaeap/fish-market).\n",
    "\n",
    "Keterangan dari kolom dataset ini adalah:\n",
    "\n",
    "| Feature        | Description                                                                                                                                                                                                                                                                                                                                                                                                        |\n",
    "| -------------- | ------------------------------------------------------------------------------------------------------------------------------------------------------------------------------------------------------------------------------------------------------------------------------------------------------------------------------------------------------------------------------------------------------------------ |\n",
    "| Species            | Nama spesies ikan                                                                                                                                                                                                                                                                                                                                                                                                       |\n",
    "| Weight            | Berat ikan dalam gram                                                                                                                                                                                                                            |\n",
    "| Length1        | Panjang vertikal dalam cm                                                                                                                                                                                                                                                                                               |\n",
    "| Length2      | Panjang diagonal dalam cm                                                                                                                                                                                                                                                                              |\n",
    "| Length3        | Panjang silang dalam cm                                                                                                                                                                                                                                                                                                                                                       |\n",
    "| Height        | Tinggi dalam cm                                                                                                                                                                                                                                                                                                                                                            |\n",
    "| Width              | Lebar diagonal dalam cm                                                                                                                                                                                                                                                                                                                                                    |"
   ]
  },
  {
   "cell_type": "markdown",
   "metadata": {},
   "source": [
    "### Objectives\n",
    "\n",
    "Milestones 2 ini dibuat guna mengevaluasi Pembelajaran Phase 1:\n",
    "\n",
    "- Mampu memahami konsep supervised learning\n",
    "- Mampu mempersiapkan data untuk digunakan dalam model supervised learning\n",
    "- Mampu mengimplementasikan supervised learning dengan data yang diberikan\n",
    "- Mampu melakukan evaluasi model\n",
    "- Mampu melakukan model tuning"
   ]
  },
  {
   "cell_type": "markdown",
   "metadata": {},
   "source": [
    "## Import Libraries"
   ]
  },
  {
   "cell_type": "markdown",
   "metadata": {},
   "source": [
    "Pada milestone 2 ini akan menggunakan library **warnings**, **Pandas**, **Numpy**, **Matplotlib**, **Seaborn**, dan **Scikit-Learn**."
   ]
  },
  {
   "cell_type": "code",
   "execution_count": 59,
   "metadata": {},
   "outputs": [],
   "source": [
    "import warnings\n",
    "warnings.filterwarnings('ignore')\n",
    "import pickle\n",
    "import pandas as pd\n",
    "import numpy as np\n",
    "import matplotlib.pyplot as plt\n",
    "import seaborn as sns\n",
    "from sklearn.model_selection import train_test_split\n",
    "from sklearn.preprocessing import StandardScaler\n",
    "from sklearn.pipeline import Pipeline\n",
    "from sklearn.compose import ColumnTransformer\n",
    "from sklearn.model_selection import GridSearchCV\n",
    "from sklearn.model_selection import train_test_split\n",
    "from sklearn.linear_model import LinearRegression\n",
    "from sklearn.preprocessing import OneHotEncoder\n",
    "from sklearn.pipeline import make_pipeline\n",
    "from sklearn.metrics import f1_score\n",
    "from sklearn.metrics import mean_squared_error, mean_absolute_error"
   ]
  },
  {
   "cell_type": "markdown",
   "metadata": {},
   "source": [
    "Melakukan setting agar pandas menampilkan seluruh kolom pada dataframe."
   ]
  },
  {
   "cell_type": "code",
   "execution_count": 60,
   "metadata": {},
   "outputs": [],
   "source": [
    "pd.set_option('display.max_columns', None)"
   ]
  },
  {
   "cell_type": "markdown",
   "metadata": {},
   "source": [
    "## Data Loading"
   ]
  },
  {
   "cell_type": "markdown",
   "metadata": {},
   "source": [
    "Membuat dataframe bernama `df` dari file `Fish.csv`."
   ]
  },
  {
   "cell_type": "code",
   "execution_count": 61,
   "metadata": {},
   "outputs": [
    {
     "data": {
      "text/html": [
       "<div>\n",
       "<style scoped>\n",
       "    .dataframe tbody tr th:only-of-type {\n",
       "        vertical-align: middle;\n",
       "    }\n",
       "\n",
       "    .dataframe tbody tr th {\n",
       "        vertical-align: top;\n",
       "    }\n",
       "\n",
       "    .dataframe thead th {\n",
       "        text-align: right;\n",
       "    }\n",
       "</style>\n",
       "<table border=\"1\" class=\"dataframe\">\n",
       "  <thead>\n",
       "    <tr style=\"text-align: right;\">\n",
       "      <th></th>\n",
       "      <th>Species</th>\n",
       "      <th>Weight</th>\n",
       "      <th>Length1</th>\n",
       "      <th>Length2</th>\n",
       "      <th>Length3</th>\n",
       "      <th>Height</th>\n",
       "      <th>Width</th>\n",
       "    </tr>\n",
       "  </thead>\n",
       "  <tbody>\n",
       "    <tr>\n",
       "      <th>0</th>\n",
       "      <td>Bream</td>\n",
       "      <td>242.0</td>\n",
       "      <td>23.2</td>\n",
       "      <td>25.4</td>\n",
       "      <td>30.0</td>\n",
       "      <td>11.5200</td>\n",
       "      <td>4.0200</td>\n",
       "    </tr>\n",
       "    <tr>\n",
       "      <th>1</th>\n",
       "      <td>Bream</td>\n",
       "      <td>290.0</td>\n",
       "      <td>24.0</td>\n",
       "      <td>26.3</td>\n",
       "      <td>31.2</td>\n",
       "      <td>12.4800</td>\n",
       "      <td>4.3056</td>\n",
       "    </tr>\n",
       "    <tr>\n",
       "      <th>2</th>\n",
       "      <td>Bream</td>\n",
       "      <td>340.0</td>\n",
       "      <td>23.9</td>\n",
       "      <td>26.5</td>\n",
       "      <td>31.1</td>\n",
       "      <td>12.3778</td>\n",
       "      <td>4.6961</td>\n",
       "    </tr>\n",
       "    <tr>\n",
       "      <th>3</th>\n",
       "      <td>Bream</td>\n",
       "      <td>363.0</td>\n",
       "      <td>26.3</td>\n",
       "      <td>29.0</td>\n",
       "      <td>33.5</td>\n",
       "      <td>12.7300</td>\n",
       "      <td>4.4555</td>\n",
       "    </tr>\n",
       "    <tr>\n",
       "      <th>4</th>\n",
       "      <td>Bream</td>\n",
       "      <td>430.0</td>\n",
       "      <td>26.5</td>\n",
       "      <td>29.0</td>\n",
       "      <td>34.0</td>\n",
       "      <td>12.4440</td>\n",
       "      <td>5.1340</td>\n",
       "    </tr>\n",
       "  </tbody>\n",
       "</table>\n",
       "</div>"
      ],
      "text/plain": [
       "  Species  Weight  Length1  Length2  Length3   Height   Width\n",
       "0   Bream   242.0     23.2     25.4     30.0  11.5200  4.0200\n",
       "1   Bream   290.0     24.0     26.3     31.2  12.4800  4.3056\n",
       "2   Bream   340.0     23.9     26.5     31.1  12.3778  4.6961\n",
       "3   Bream   363.0     26.3     29.0     33.5  12.7300  4.4555\n",
       "4   Bream   430.0     26.5     29.0     34.0  12.4440  5.1340"
      ]
     },
     "execution_count": 61,
     "metadata": {},
     "output_type": "execute_result"
    }
   ],
   "source": [
    "df = pd.read_csv('Fish.csv')\n",
    "df.head()"
   ]
  },
  {
   "cell_type": "markdown",
   "metadata": {},
   "source": [
    "### Data Characteristics"
   ]
  },
  {
   "cell_type": "code",
   "execution_count": 62,
   "metadata": {},
   "outputs": [
    {
     "data": {
      "text/plain": [
       "(159, 7)"
      ]
     },
     "execution_count": 62,
     "metadata": {},
     "output_type": "execute_result"
    }
   ],
   "source": [
    "df.shape"
   ]
  },
  {
   "cell_type": "markdown",
   "metadata": {},
   "source": [
    "Dataset ini memiliki **159 baris** dengan **7 kolom**."
   ]
  },
  {
   "cell_type": "code",
   "execution_count": 63,
   "metadata": {},
   "outputs": [
    {
     "name": "stdout",
     "output_type": "stream",
     "text": [
      "<class 'pandas.core.frame.DataFrame'>\n",
      "RangeIndex: 159 entries, 0 to 158\n",
      "Data columns (total 7 columns):\n",
      " #   Column   Non-Null Count  Dtype  \n",
      "---  ------   --------------  -----  \n",
      " 0   Species  159 non-null    object \n",
      " 1   Weight   159 non-null    float64\n",
      " 2   Length1  159 non-null    float64\n",
      " 3   Length2  159 non-null    float64\n",
      " 4   Length3  159 non-null    float64\n",
      " 5   Height   159 non-null    float64\n",
      " 6   Width    159 non-null    float64\n",
      "dtypes: float64(6), object(1)\n",
      "memory usage: 8.8+ KB\n"
     ]
    }
   ],
   "source": [
    "df.info()"
   ]
  },
  {
   "cell_type": "markdown",
   "metadata": {},
   "source": [
    "Dari basic info ini dapat diketahui datafrane terbentuk dari:\n",
    "- 6 kolom dengan tipe **float**\n",
    "- 1 kolom dengan tipe **object**"
   ]
  },
  {
   "cell_type": "code",
   "execution_count": 64,
   "metadata": {},
   "outputs": [
    {
     "data": {
      "text/html": [
       "<div>\n",
       "<style scoped>\n",
       "    .dataframe tbody tr th:only-of-type {\n",
       "        vertical-align: middle;\n",
       "    }\n",
       "\n",
       "    .dataframe tbody tr th {\n",
       "        vertical-align: top;\n",
       "    }\n",
       "\n",
       "    .dataframe thead th {\n",
       "        text-align: right;\n",
       "    }\n",
       "</style>\n",
       "<table border=\"1\" class=\"dataframe\">\n",
       "  <thead>\n",
       "    <tr style=\"text-align: right;\">\n",
       "      <th></th>\n",
       "      <th>count</th>\n",
       "      <th>mean</th>\n",
       "      <th>std</th>\n",
       "      <th>min</th>\n",
       "      <th>25%</th>\n",
       "      <th>50%</th>\n",
       "      <th>75%</th>\n",
       "      <th>max</th>\n",
       "    </tr>\n",
       "  </thead>\n",
       "  <tbody>\n",
       "    <tr>\n",
       "      <th>Weight</th>\n",
       "      <td>159.0</td>\n",
       "      <td>398.326415</td>\n",
       "      <td>357.978317</td>\n",
       "      <td>0.0000</td>\n",
       "      <td>120.00000</td>\n",
       "      <td>273.0000</td>\n",
       "      <td>650.0000</td>\n",
       "      <td>1650.000</td>\n",
       "    </tr>\n",
       "    <tr>\n",
       "      <th>Length1</th>\n",
       "      <td>159.0</td>\n",
       "      <td>26.247170</td>\n",
       "      <td>9.996441</td>\n",
       "      <td>7.5000</td>\n",
       "      <td>19.05000</td>\n",
       "      <td>25.2000</td>\n",
       "      <td>32.7000</td>\n",
       "      <td>59.000</td>\n",
       "    </tr>\n",
       "    <tr>\n",
       "      <th>Length2</th>\n",
       "      <td>159.0</td>\n",
       "      <td>28.415723</td>\n",
       "      <td>10.716328</td>\n",
       "      <td>8.4000</td>\n",
       "      <td>21.00000</td>\n",
       "      <td>27.3000</td>\n",
       "      <td>35.5000</td>\n",
       "      <td>63.400</td>\n",
       "    </tr>\n",
       "    <tr>\n",
       "      <th>Length3</th>\n",
       "      <td>159.0</td>\n",
       "      <td>31.227044</td>\n",
       "      <td>11.610246</td>\n",
       "      <td>8.8000</td>\n",
       "      <td>23.15000</td>\n",
       "      <td>29.4000</td>\n",
       "      <td>39.6500</td>\n",
       "      <td>68.000</td>\n",
       "    </tr>\n",
       "    <tr>\n",
       "      <th>Height</th>\n",
       "      <td>159.0</td>\n",
       "      <td>8.970994</td>\n",
       "      <td>4.286208</td>\n",
       "      <td>1.7284</td>\n",
       "      <td>5.94480</td>\n",
       "      <td>7.7860</td>\n",
       "      <td>12.3659</td>\n",
       "      <td>18.957</td>\n",
       "    </tr>\n",
       "    <tr>\n",
       "      <th>Width</th>\n",
       "      <td>159.0</td>\n",
       "      <td>4.417486</td>\n",
       "      <td>1.685804</td>\n",
       "      <td>1.0476</td>\n",
       "      <td>3.38565</td>\n",
       "      <td>4.2485</td>\n",
       "      <td>5.5845</td>\n",
       "      <td>8.142</td>\n",
       "    </tr>\n",
       "  </tbody>\n",
       "</table>\n",
       "</div>"
      ],
      "text/plain": [
       "         count        mean         std     min        25%       50%       75%  \\\n",
       "Weight   159.0  398.326415  357.978317  0.0000  120.00000  273.0000  650.0000   \n",
       "Length1  159.0   26.247170    9.996441  7.5000   19.05000   25.2000   32.7000   \n",
       "Length2  159.0   28.415723   10.716328  8.4000   21.00000   27.3000   35.5000   \n",
       "Length3  159.0   31.227044   11.610246  8.8000   23.15000   29.4000   39.6500   \n",
       "Height   159.0    8.970994    4.286208  1.7284    5.94480    7.7860   12.3659   \n",
       "Width    159.0    4.417486    1.685804  1.0476    3.38565    4.2485    5.5845   \n",
       "\n",
       "              max  \n",
       "Weight   1650.000  \n",
       "Length1    59.000  \n",
       "Length2    63.400  \n",
       "Length3    68.000  \n",
       "Height     18.957  \n",
       "Width       8.142  "
      ]
     },
     "execution_count": 64,
     "metadata": {},
     "output_type": "execute_result"
    }
   ],
   "source": [
    "df.describe().T"
   ]
  },
  {
   "cell_type": "markdown",
   "metadata": {},
   "source": [
    "Distribusi dari kolom pada dataset kebanyakan memiliki distribusi yang cenderung normal (**Symmetrical Distribution**) contohnya pada kolom `Height` dimana mean dari kolom tersebut berdekatan dengan mediannya."
   ]
  },
  {
   "cell_type": "markdown",
   "metadata": {},
   "source": [
    "## Data Cleaning"
   ]
  },
  {
   "cell_type": "markdown",
   "metadata": {},
   "source": [
    "### Missing Values"
   ]
  },
  {
   "cell_type": "markdown",
   "metadata": {},
   "source": [
    "Akan dilakukan pengecekan terhadap missing value."
   ]
  },
  {
   "cell_type": "code",
   "execution_count": 65,
   "metadata": {},
   "outputs": [
    {
     "data": {
      "text/plain": [
       "Species    0\n",
       "Weight     0\n",
       "Length1    0\n",
       "Length2    0\n",
       "Length3    0\n",
       "Height     0\n",
       "Width      0\n",
       "dtype: int64"
      ]
     },
     "execution_count": 65,
     "metadata": {},
     "output_type": "execute_result"
    }
   ],
   "source": [
    "df.isna().sum()"
   ]
  },
  {
   "cell_type": "markdown",
   "metadata": {},
   "source": [
    "Diketahui tidak terdapat missing value pada dataset ini."
   ]
  },
  {
   "cell_type": "markdown",
   "metadata": {},
   "source": [
    "### Duplicated Data"
   ]
  },
  {
   "cell_type": "markdown",
   "metadata": {},
   "source": [
    "pada bagian ini akan dilakukan pengecekan terhadap data duplikat."
   ]
  },
  {
   "cell_type": "code",
   "execution_count": 66,
   "metadata": {},
   "outputs": [
    {
     "data": {
      "text/plain": [
       "0"
      ]
     },
     "execution_count": 66,
     "metadata": {},
     "output_type": "execute_result"
    }
   ],
   "source": [
    "df.duplicated().sum()"
   ]
  },
  {
   "cell_type": "markdown",
   "metadata": {},
   "source": [
    "Tidak terdapat duplicated rows pada dataset ini."
   ]
  },
  {
   "cell_type": "markdown",
   "metadata": {},
   "source": [
    "## Exploratory Data Analysis"
   ]
  },
  {
   "cell_type": "markdown",
   "metadata": {},
   "source": [
    "### Weight (Target Label)"
   ]
  },
  {
   "cell_type": "code",
   "execution_count": 67,
   "metadata": {},
   "outputs": [
    {
     "data": {
      "image/png": "[encoded data removed]",
      "text/plain": [
       "<Figure size 1440x432 with 2 Axes>"
      ]
     },
     "metadata": {
      "needs_background": "light"
     },
     "output_type": "display_data"
    },
    {
     "name": "stdout",
     "output_type": "stream",
     "text": [
      "Skewness: 1.1044503929261893\n",
      "Mean: 398.3264150943396\n",
      "Median: 273.0\n"
     ]
    }
   ],
   "source": [
    "plt.figure(figsize=(20,6))\n",
    "plt.subplot(1, 2, 1)\n",
    "sns.histplot(x='Weight', data=df, bins=50, kde=True)\n",
    "plt.axvline(df.Weight.mean(), color='red', linestyle='dashed', linewidth=2, label='Mean')\n",
    "plt.axvline(df.Weight.median(), color='green', linestyle='dashed', linewidth=2, label='Median')\n",
    "plt.title('Weight Distribution')\n",
    "plt.xlabel('Weight')\n",
    "plt.ylabel('Frequency')\n",
    "plt.legend()\n",
    "plt.subplot(1, 2, 2)\n",
    "sns.boxplot(x='Weight', data=df)\n",
    "plt.title('Weight Distribution')\n",
    "plt.xlabel('Weight')\n",
    "plt.ylabel('Frequency')\n",
    "plt.show()\n",
    "print(f'Skewness: {df.Weight.skew()}')\n",
    "print(f'Mean: {df.Weight.mean()}')\n",
    "print(f'Median: {df.Weight.median()}')"
   ]
  },
  {
   "cell_type": "markdown",
   "metadata": {},
   "source": [
    "Kolom `Weight` ini memiliki distribusi yang **skew** karena nilai dari skewnessnya lebih dari 1 dengan mean dan mediannya yang berjauhan, pada kolom `Weight` ini juga ditemukan **adanya outlier**."
   ]
  },
  {
   "cell_type": "markdown",
   "metadata": {},
   "source": [
    "### Species"
   ]
  },
  {
   "cell_type": "code",
   "execution_count": 68,
   "metadata": {},
   "outputs": [
    {
     "data": {
      "image/png": "[encoded data removed]",
      "text/plain": [
       "<Figure size 1440x432 with 1 Axes>"
      ]
     },
     "metadata": {},
     "output_type": "display_data"
    }
   ],
   "source": [
    "plt.figure(figsize=(20,6))\n",
    "plt.pie(df['Species'].value_counts(), labels=df['Species'].unique(), autopct='%.2f%%')\n",
    "plt.title('Species name of fish')\n",
    "plt.show()"
   ]
  },
  {
   "cell_type": "code",
   "execution_count": 69,
   "metadata": {},
   "outputs": [
    {
     "data": {
      "image/png": "[encoded data removed]",
      "text/plain": [
       "<Figure size 1440x360 with 1 Axes>"
      ]
     },
     "metadata": {
      "needs_background": "light"
     },
     "output_type": "display_data"
    }
   ],
   "source": [
    "plt.figure(figsize=(20,5))\n",
    "sns.boxplot(x='Species', y='Weight', data=df)\n",
    "plt.title('Weight Distribution per Species')\n",
    "plt.xlabel('Species')\n",
    "plt.ylabel('Weight')\n",
    "plt.show()"
   ]
  },
  {
   "cell_type": "markdown",
   "metadata": {},
   "source": [
    "Diketahui mayoritas spesies ikan yang ada pada dataset ini adalah ikan Bream, dan spesies tersebut merupakan spesies terberat diantara spesies lainnya dengan smelt menduduki spesies teringan."
   ]
  },
  {
   "cell_type": "markdown",
   "metadata": {},
   "source": [
    "### Length"
   ]
  },
  {
   "cell_type": "code",
   "execution_count": 70,
   "metadata": {},
   "outputs": [
    {
     "data": {
      "image/png": "[encoded data removed]",
      "text/plain": [
       "<Figure size 1224x360 with 3 Axes>"
      ]
     },
     "metadata": {
      "needs_background": "light"
     },
     "output_type": "display_data"
    }
   ],
   "source": [
    "plt.figure(figsize=(17,5))\n",
    "plt.subplot(1, 3, 1)\n",
    "sns.histplot(x='Length1', data=df)\n",
    "plt.title('Vertical length Distribution')\n",
    "plt.xlabel('Vertical length')\n",
    "plt.ylabel('Frequency')\n",
    "plt.subplot(1, 3, 2)\n",
    "sns.histplot(x='Length2', data=df)\n",
    "plt.title('Diagonal length Distribution')\n",
    "plt.xlabel('Diagonal length')\n",
    "plt.ylabel('Frequency')\n",
    "plt.subplot(1, 3, 3)\n",
    "sns.histplot(x='Length3', data=df)\n",
    "plt.title('Cross length Distribution')\n",
    "plt.xlabel('Cross length')\n",
    "plt.ylabel('Frequency')\n",
    "plt.show()"
   ]
  },
  {
   "cell_type": "code",
   "execution_count": 71,
   "metadata": {},
   "outputs": [
    {
     "data": {
      "image/png": "[encoded data removed]",
      "text/plain": [
       "<Figure size 1080x360 with 3 Axes>"
      ]
     },
     "metadata": {
      "needs_background": "light"
     },
     "output_type": "display_data"
    }
   ],
   "source": [
    "plt.figure(figsize=(15,5))\n",
    "plt.subplot(1, 3, 1)\n",
    "sns.scatterplot(x='Length1', y='Weight', data=df, hue='Species')\n",
    "plt.title('Weight vs Vertical length')\n",
    "plt.xlabel('Vertical length in cm')\n",
    "plt.ylabel('Weight')\n",
    "plt.subplot(1, 3, 2)\n",
    "sns.scatterplot(x='Length2', y='Weight', data=df, hue='Species')\n",
    "plt.title('Weight vs Diagonal length')\n",
    "plt.xlabel('Diagonal length in cm')\n",
    "plt.ylabel('Weight')\n",
    "plt.subplot(1, 3, 3)\n",
    "sns.scatterplot(x='Length3', y='Weight', data=df, hue='Species')\n",
    "plt.title('Weight vs Cross length')\n",
    "plt.xlabel('Cross length in cm')\n",
    "plt.ylabel('Weight')\n",
    "plt.show()"
   ]
  },
  {
   "cell_type": "markdown",
   "metadata": {},
   "source": [
    "Diketahui ikan pike memiliki overall lenght terbesar dan ikan smelt memiliki overall length terkecil diantara ikan lainnya."
   ]
  },
  {
   "cell_type": "markdown",
   "metadata": {},
   "source": [
    "## Height"
   ]
  },
  {
   "cell_type": "code",
   "execution_count": 72,
   "metadata": {},
   "outputs": [
    {
     "data": {
      "image/png": "[encoded data removed]",
      "text/plain": [
       "<Figure size 1440x432 with 2 Axes>"
      ]
     },
     "metadata": {
      "needs_background": "light"
     },
     "output_type": "display_data"
    },
    {
     "name": "stdout",
     "output_type": "stream",
     "text": [
      "Skewness: 0.39718636256683026\n",
      "Mean: 8.970993710691822\n",
      "Median: 7.786\n"
     ]
    }
   ],
   "source": [
    "plt.figure(figsize=(20,6))\n",
    "plt.subplot(1, 2, 1)\n",
    "sns.histplot(x='Height', data=df, bins=50, kde=True)\n",
    "plt.axvline(df.Height.mean(), color='red', linestyle='dashed', linewidth=2, label='Mean')\n",
    "plt.axvline(df.Height.median(), color='green', linestyle='dashed', linewidth=2, label='Median')\n",
    "plt.title('Height Distribution')\n",
    "plt.xlabel('Height')\n",
    "plt.ylabel('Frequency')\n",
    "plt.legend()\n",
    "plt.subplot(1, 2, 2)\n",
    "sns.boxplot(x='Height', data=df)\n",
    "plt.title('Height Distribution')\n",
    "plt.xlabel('Height')\n",
    "plt.ylabel('Frequency')\n",
    "plt.show()\n",
    "print(f'Skewness: {df.Height.skew()}')\n",
    "print(f'Mean: {df.Height.mean()}')\n",
    "print(f'Median: {df.Height.median()}')"
   ]
  },
  {
   "cell_type": "code",
   "execution_count": 73,
   "metadata": {},
   "outputs": [
    {
     "data": {
      "image/png": "[encoded data removed]",
      "text/plain": [
       "<Figure size 432x288 with 1 Axes>"
      ]
     },
     "metadata": {
      "needs_background": "light"
     },
     "output_type": "display_data"
    }
   ],
   "source": [
    "sns.scatterplot(x='Height', y='Weight', data=df, hue='Species')\n",
    "plt.title('Weight vs Height')\n",
    "plt.xlabel('Height')\n",
    "plt.ylabel('Weight')\n",
    "plt.show()"
   ]
  },
  {
   "cell_type": "markdown",
   "metadata": {},
   "source": [
    "Diketahui mayoritas ikan bream memiliki nilai tinggi terbesar dibandingkan dengan spesies lainnya, melainkan ikan smelt memiliki tinggi terkecil dibandingkan dengan spesies lainnya."
   ]
  },
  {
   "cell_type": "markdown",
   "metadata": {},
   "source": [
    "## Width"
   ]
  },
  {
   "cell_type": "code",
   "execution_count": 74,
   "metadata": {},
   "outputs": [
    {
     "data": {
      "image/png": "[encoded data removed]",
      "text/plain": [
       "<Figure size 1440x432 with 2 Axes>"
      ]
     },
     "metadata": {
      "needs_background": "light"
     },
     "output_type": "display_data"
    },
    {
     "name": "stdout",
     "output_type": "stream",
     "text": [
      "Skewness: 0.00497224623809981\n",
      "Mean: 4.417485534591194\n",
      "Median: 4.2485\n"
     ]
    }
   ],
   "source": [
    "plt.figure(figsize=(20,6))\n",
    "plt.subplot(1, 2, 1)\n",
    "sns.histplot(x='Width', data=df, bins=50, kde=True)\n",
    "plt.axvline(df.Width.mean(), color='red', linestyle='dashed', linewidth=2, label='Mean')\n",
    "plt.axvline(df.Width.median(), color='green', linestyle='dashed', linewidth=2, label='Median')\n",
    "plt.title('Width Distribution')\n",
    "plt.xlabel('Width')\n",
    "plt.ylabel('Frequency')\n",
    "plt.legend()\n",
    "plt.subplot(1, 2, 2)\n",
    "sns.boxplot(x='Width', data=df)\n",
    "plt.title('Width Distribution')\n",
    "plt.xlabel('Width')\n",
    "plt.ylabel('Frequency')\n",
    "plt.show()\n",
    "print(f'Skewness: {df.Width.skew()}')\n",
    "print(f'Mean: {df.Width.mean()}')\n",
    "print(f'Median: {df.Width.median()}')"
   ]
  },
  {
   "cell_type": "code",
   "execution_count": 75,
   "metadata": {},
   "outputs": [
    {
     "data": {
      "image/png": "[encoded data removed]",
      "text/plain": [
       "<Figure size 432x288 with 1 Axes>"
      ]
     },
     "metadata": {
      "needs_background": "light"
     },
     "output_type": "display_data"
    }
   ],
   "source": [
    "sns.scatterplot(x='Width', y='Weight', data=df, hue='Species')\n",
    "plt.title('Weight vs Width')\n",
    "plt.xlabel('Width')\n",
    "plt.ylabel('Weight')\n",
    "plt.show()"
   ]
  },
  {
   "cell_type": "markdown",
   "metadata": {},
   "source": [
    "Diketahui ikan perch memiliki nilai lebar terbesar dibandingkan dengan spesies lainnya, melainkan ikan smelt memiliki lebar terkecil dibandingkan dengan spesies lainnya."
   ]
  },
  {
   "cell_type": "markdown",
   "metadata": {},
   "source": [
    "### Correlation Between Numeric Columns"
   ]
  },
  {
   "cell_type": "code",
   "execution_count": 76,
   "metadata": {},
   "outputs": [
    {
     "data": {
      "text/plain": [
       "Text(0.5, 1.0, 'Correlation Matrix')"
      ]
     },
     "execution_count": 76,
     "metadata": {},
     "output_type": "execute_result"
    },
    {
     "data": {
      "image/png": "[encoded data removed]",
      "text/plain": [
       "<Figure size 432x288 with 2 Axes>"
      ]
     },
     "metadata": {
      "needs_background": "light"
     },
     "output_type": "display_data"
    }
   ],
   "source": [
    "sns.heatmap(df.corr(), square=True, annot=True)\n",
    "plt.title('Correlation Matrix')"
   ]
  },
  {
   "cell_type": "markdown",
   "metadata": {},
   "source": [
    "Diketahui weight memiliki korelasi yang tinggi dengan kolom-kolom lainnya. Maka, semua kolom numerik akan dijadikan feature."
   ]
  },
  {
   "cell_type": "markdown",
   "metadata": {},
   "source": [
    "### Correlation Between Species & Weight"
   ]
  },
  {
   "cell_type": "code",
   "execution_count": 77,
   "metadata": {},
   "outputs": [
    {
     "data": {
      "text/html": [
       "<style type=\"text/css\">\n",
       "#T_3c7f3_row0_col0, #T_3c7f3_row1_col1, #T_3c7f3_row2_col2, #T_3c7f3_row3_col3, #T_3c7f3_row4_col4, #T_3c7f3_row5_col5, #T_3c7f3_row6_col6, #T_3c7f3_row7_col7 {\n",
       "  background-color: #b40426;\n",
       "  color: #f1f1f1;\n",
       "}\n",
       "#T_3c7f3_row0_col1 {\n",
       "  background-color: #e1dad6;\n",
       "  color: #000000;\n",
       "}\n",
       "#T_3c7f3_row0_col2, #T_3c7f3_row0_col5 {\n",
       "  background-color: #3e51c5;\n",
       "  color: #f1f1f1;\n",
       "}\n",
       "#T_3c7f3_row0_col3 {\n",
       "  background-color: #8fb1fe;\n",
       "  color: #000000;\n",
       "}\n",
       "#T_3c7f3_row0_col4 {\n",
       "  background-color: #cfdaea;\n",
       "  color: #000000;\n",
       "}\n",
       "#T_3c7f3_row0_col6, #T_3c7f3_row1_col3, #T_3c7f3_row3_col1, #T_3c7f3_row3_col2, #T_3c7f3_row3_col4, #T_3c7f3_row3_col5, #T_3c7f3_row3_col7, #T_3c7f3_row6_col0 {\n",
       "  background-color: #3b4cc0;\n",
       "  color: #f1f1f1;\n",
       "}\n",
       "#T_3c7f3_row0_col7 {\n",
       "  background-color: #799cf8;\n",
       "  color: #f1f1f1;\n",
       "}\n",
       "#T_3c7f3_row1_col0 {\n",
       "  background-color: #dcdddd;\n",
       "  color: #000000;\n",
       "}\n",
       "#T_3c7f3_row1_col2 {\n",
       "  background-color: #485fd1;\n",
       "  color: #f1f1f1;\n",
       "}\n",
       "#T_3c7f3_row1_col4, #T_3c7f3_row5_col0 {\n",
       "  background-color: #4b64d5;\n",
       "  color: #f1f1f1;\n",
       "}\n",
       "#T_3c7f3_row1_col5, #T_3c7f3_row5_col7 {\n",
       "  background-color: #4c66d6;\n",
       "  color: #f1f1f1;\n",
       "}\n",
       "#T_3c7f3_row1_col6, #T_3c7f3_row2_col4, #T_3c7f3_row6_col5 {\n",
       "  background-color: #6282ea;\n",
       "  color: #f1f1f1;\n",
       "}\n",
       "#T_3c7f3_row1_col7 {\n",
       "  background-color: #455cce;\n",
       "  color: #f1f1f1;\n",
       "}\n",
       "#T_3c7f3_row2_col0 {\n",
       "  background-color: #5d7ce6;\n",
       "  color: #f1f1f1;\n",
       "}\n",
       "#T_3c7f3_row2_col1, #T_3c7f3_row7_col3 {\n",
       "  background-color: #7396f5;\n",
       "  color: #f1f1f1;\n",
       "}\n",
       "#T_3c7f3_row2_col3, #T_3c7f3_row2_col5 {\n",
       "  background-color: #6687ed;\n",
       "  color: #f1f1f1;\n",
       "}\n",
       "#T_3c7f3_row2_col6 {\n",
       "  background-color: #779af7;\n",
       "  color: #f1f1f1;\n",
       "}\n",
       "#T_3c7f3_row2_col7, #T_3c7f3_row3_col6, #T_3c7f3_row5_col2, #T_3c7f3_row5_col3 {\n",
       "  background-color: #536edd;\n",
       "  color: #f1f1f1;\n",
       "}\n",
       "#T_3c7f3_row3_col0 {\n",
       "  background-color: #85a8fc;\n",
       "  color: #f1f1f1;\n",
       "}\n",
       "#T_3c7f3_row4_col0 {\n",
       "  background-color: #d9dce1;\n",
       "  color: #000000;\n",
       "}\n",
       "#T_3c7f3_row4_col1, #T_3c7f3_row7_col4 {\n",
       "  background-color: #6a8bef;\n",
       "  color: #f1f1f1;\n",
       "}\n",
       "#T_3c7f3_row4_col2 {\n",
       "  background-color: #5572df;\n",
       "  color: #f1f1f1;\n",
       "}\n",
       "#T_3c7f3_row4_col3, #T_3c7f3_row5_col4 {\n",
       "  background-color: #5977e3;\n",
       "  color: #f1f1f1;\n",
       "}\n",
       "#T_3c7f3_row4_col5, #T_3c7f3_row6_col3 {\n",
       "  background-color: #5e7de7;\n",
       "  color: #f1f1f1;\n",
       "}\n",
       "#T_3c7f3_row4_col6 {\n",
       "  background-color: #7093f3;\n",
       "  color: #f1f1f1;\n",
       "}\n",
       "#T_3c7f3_row4_col7 {\n",
       "  background-color: #4f69d9;\n",
       "  color: #f1f1f1;\n",
       "}\n",
       "#T_3c7f3_row5_col1 {\n",
       "  background-color: #6485ec;\n",
       "  color: #f1f1f1;\n",
       "}\n",
       "#T_3c7f3_row5_col6, #T_3c7f3_row6_col1 {\n",
       "  background-color: #6e90f2;\n",
       "  color: #f1f1f1;\n",
       "}\n",
       "#T_3c7f3_row6_col2 {\n",
       "  background-color: #5875e1;\n",
       "  color: #f1f1f1;\n",
       "}\n",
       "#T_3c7f3_row6_col4 {\n",
       "  background-color: #5f7fe8;\n",
       "  color: #f1f1f1;\n",
       "}\n",
       "#T_3c7f3_row6_col7 {\n",
       "  background-color: #506bda;\n",
       "  color: #f1f1f1;\n",
       "}\n",
       "#T_3c7f3_row7_col0 {\n",
       "  background-color: #a1c0ff;\n",
       "  color: #000000;\n",
       "}\n",
       "#T_3c7f3_row7_col1, #T_3c7f3_row7_col6 {\n",
       "  background-color: #7da0f9;\n",
       "  color: #f1f1f1;\n",
       "}\n",
       "#T_3c7f3_row7_col2 {\n",
       "  background-color: #6180e9;\n",
       "  color: #f1f1f1;\n",
       "}\n",
       "#T_3c7f3_row7_col5 {\n",
       "  background-color: #6c8ff1;\n",
       "  color: #f1f1f1;\n",
       "}\n",
       "</style>\n",
       "<table id=\"T_3c7f3_\">\n",
       "  <thead>\n",
       "    <tr>\n",
       "      <th class=\"blank level0\" >&nbsp;</th>\n",
       "      <th class=\"col_heading level0 col0\" >Weight</th>\n",
       "      <th class=\"col_heading level0 col1\" >Species_Bream</th>\n",
       "      <th class=\"col_heading level0 col2\" >Species_Parkki</th>\n",
       "      <th class=\"col_heading level0 col3\" >Species_Perch</th>\n",
       "      <th class=\"col_heading level0 col4\" >Species_Pike</th>\n",
       "      <th class=\"col_heading level0 col5\" >Species_Roach</th>\n",
       "      <th class=\"col_heading level0 col6\" >Species_Smelt</th>\n",
       "      <th class=\"col_heading level0 col7\" >Species_Whitefish</th>\n",
       "    </tr>\n",
       "  </thead>\n",
       "  <tbody>\n",
       "    <tr>\n",
       "      <th id=\"T_3c7f3_level0_row0\" class=\"row_heading level0 row0\" >Weight</th>\n",
       "      <td id=\"T_3c7f3_row0_col0\" class=\"data row0 col0\" >1.000000</td>\n",
       "      <td id=\"T_3c7f3_row0_col1\" class=\"data row0 col1\" >0.326795</td>\n",
       "      <td id=\"T_3c7f3_row0_col2\" class=\"data row0 col2\" >-0.186034</td>\n",
       "      <td id=\"T_3c7f3_row0_col3\" class=\"data row0 col3\" >-0.033240</td>\n",
       "      <td id=\"T_3c7f3_row0_col4\" class=\"data row0 col4\" >0.310641</td>\n",
       "      <td id=\"T_3c7f3_row0_col5\" class=\"data row0 col5\" >-0.261784</td>\n",
       "      <td id=\"T_3c7f3_row0_col6\" class=\"data row0 col6\" >-0.337109</td>\n",
       "      <td id=\"T_3c7f3_row0_col7\" class=\"data row0 col7\" >0.073625</td>\n",
       "    </tr>\n",
       "    <tr>\n",
       "      <th id=\"T_3c7f3_level0_row1\" class=\"row_heading level0 row1\" >Species_Bream</th>\n",
       "      <td id=\"T_3c7f3_row1_col0\" class=\"data row1 col0\" >0.326795</td>\n",
       "      <td id=\"T_3c7f3_row1_col1\" class=\"data row1 col1\" >1.000000</td>\n",
       "      <td id=\"T_3c7f3_row1_col2\" class=\"data row1 col2\" >-0.144840</td>\n",
       "      <td id=\"T_3c7f3_row1_col3\" class=\"data row1 col3\" >-0.391741</td>\n",
       "      <td id=\"T_3c7f3_row1_col4\" class=\"data row1 col4\" >-0.183825</td>\n",
       "      <td id=\"T_3c7f3_row1_col5\" class=\"data row1 col5\" >-0.201526</td>\n",
       "      <td id=\"T_3c7f3_row1_col6\" class=\"data row1 col6\" >-0.165083</td>\n",
       "      <td id=\"T_3c7f3_row1_col7\" class=\"data row1 col7\" >-0.105209</td>\n",
       "    </tr>\n",
       "    <tr>\n",
       "      <th id=\"T_3c7f3_level0_row2\" class=\"row_heading level0 row2\" >Species_Parkki</th>\n",
       "      <td id=\"T_3c7f3_row2_col0\" class=\"data row2 col0\" >-0.186034</td>\n",
       "      <td id=\"T_3c7f3_row2_col1\" class=\"data row2 col1\" >-0.144840</td>\n",
       "      <td id=\"T_3c7f3_row2_col2\" class=\"data row2 col2\" >1.000000</td>\n",
       "      <td id=\"T_3c7f3_row2_col3\" class=\"data row2 col3\" >-0.201021</td>\n",
       "      <td id=\"T_3c7f3_row2_col4\" class=\"data row2 col4\" >-0.094329</td>\n",
       "      <td id=\"T_3c7f3_row2_col5\" class=\"data row2 col5\" >-0.103413</td>\n",
       "      <td id=\"T_3c7f3_row2_col6\" class=\"data row2 col6\" >-0.084712</td>\n",
       "      <td id=\"T_3c7f3_row2_col7\" class=\"data row2 col7\" >-0.053988</td>\n",
       "    </tr>\n",
       "    <tr>\n",
       "      <th id=\"T_3c7f3_level0_row3\" class=\"row_heading level0 row3\" >Species_Perch</th>\n",
       "      <td id=\"T_3c7f3_row3_col0\" class=\"data row3 col0\" >-0.033240</td>\n",
       "      <td id=\"T_3c7f3_row3_col1\" class=\"data row3 col1\" >-0.391741</td>\n",
       "      <td id=\"T_3c7f3_row3_col2\" class=\"data row3 col2\" >-0.201021</td>\n",
       "      <td id=\"T_3c7f3_row3_col3\" class=\"data row3 col3\" >1.000000</td>\n",
       "      <td id=\"T_3c7f3_row3_col4\" class=\"data row3 col4\" >-0.255127</td>\n",
       "      <td id=\"T_3c7f3_row3_col5\" class=\"data row3 col5\" >-0.279694</td>\n",
       "      <td id=\"T_3c7f3_row3_col6\" class=\"data row3 col6\" >-0.229116</td>\n",
       "      <td id=\"T_3c7f3_row3_col7\" class=\"data row3 col7\" >-0.146018</td>\n",
       "    </tr>\n",
       "    <tr>\n",
       "      <th id=\"T_3c7f3_level0_row4\" class=\"row_heading level0 row4\" >Species_Pike</th>\n",
       "      <td id=\"T_3c7f3_row4_col0\" class=\"data row4 col0\" >0.310641</td>\n",
       "      <td id=\"T_3c7f3_row4_col1\" class=\"data row4 col1\" >-0.183825</td>\n",
       "      <td id=\"T_3c7f3_row4_col2\" class=\"data row4 col2\" >-0.094329</td>\n",
       "      <td id=\"T_3c7f3_row4_col3\" class=\"data row4 col3\" >-0.255127</td>\n",
       "      <td id=\"T_3c7f3_row4_col4\" class=\"data row4 col4\" >1.000000</td>\n",
       "      <td id=\"T_3c7f3_row4_col5\" class=\"data row4 col5\" >-0.131247</td>\n",
       "      <td id=\"T_3c7f3_row4_col6\" class=\"data row4 col6\" >-0.107513</td>\n",
       "      <td id=\"T_3c7f3_row4_col7\" class=\"data row4 col7\" >-0.068519</td>\n",
       "    </tr>\n",
       "    <tr>\n",
       "      <th id=\"T_3c7f3_level0_row5\" class=\"row_heading level0 row5\" >Species_Roach</th>\n",
       "      <td id=\"T_3c7f3_row5_col0\" class=\"data row5 col0\" >-0.261784</td>\n",
       "      <td id=\"T_3c7f3_row5_col1\" class=\"data row5 col1\" >-0.201526</td>\n",
       "      <td id=\"T_3c7f3_row5_col2\" class=\"data row5 col2\" >-0.103413</td>\n",
       "      <td id=\"T_3c7f3_row5_col3\" class=\"data row5 col3\" >-0.279694</td>\n",
       "      <td id=\"T_3c7f3_row5_col4\" class=\"data row5 col4\" >-0.131247</td>\n",
       "      <td id=\"T_3c7f3_row5_col5\" class=\"data row5 col5\" >1.000000</td>\n",
       "      <td id=\"T_3c7f3_row5_col6\" class=\"data row5 col6\" >-0.117866</td>\n",
       "      <td id=\"T_3c7f3_row5_col7\" class=\"data row5 col7\" >-0.075117</td>\n",
       "    </tr>\n",
       "    <tr>\n",
       "      <th id=\"T_3c7f3_level0_row6\" class=\"row_heading level0 row6\" >Species_Smelt</th>\n",
       "      <td id=\"T_3c7f3_row6_col0\" class=\"data row6 col0\" >-0.337109</td>\n",
       "      <td id=\"T_3c7f3_row6_col1\" class=\"data row6 col1\" >-0.165083</td>\n",
       "      <td id=\"T_3c7f3_row6_col2\" class=\"data row6 col2\" >-0.084712</td>\n",
       "      <td id=\"T_3c7f3_row6_col3\" class=\"data row6 col3\" >-0.229116</td>\n",
       "      <td id=\"T_3c7f3_row6_col4\" class=\"data row6 col4\" >-0.107513</td>\n",
       "      <td id=\"T_3c7f3_row6_col5\" class=\"data row6 col5\" >-0.117866</td>\n",
       "      <td id=\"T_3c7f3_row6_col6\" class=\"data row6 col6\" >1.000000</td>\n",
       "      <td id=\"T_3c7f3_row6_col7\" class=\"data row6 col7\" >-0.061533</td>\n",
       "    </tr>\n",
       "    <tr>\n",
       "      <th id=\"T_3c7f3_level0_row7\" class=\"row_heading level0 row7\" >Species_Whitefish</th>\n",
       "      <td id=\"T_3c7f3_row7_col0\" class=\"data row7 col0\" >0.073625</td>\n",
       "      <td id=\"T_3c7f3_row7_col1\" class=\"data row7 col1\" >-0.105209</td>\n",
       "      <td id=\"T_3c7f3_row7_col2\" class=\"data row7 col2\" >-0.053988</td>\n",
       "      <td id=\"T_3c7f3_row7_col3\" class=\"data row7 col3\" >-0.146018</td>\n",
       "      <td id=\"T_3c7f3_row7_col4\" class=\"data row7 col4\" >-0.068519</td>\n",
       "      <td id=\"T_3c7f3_row7_col5\" class=\"data row7 col5\" >-0.075117</td>\n",
       "      <td id=\"T_3c7f3_row7_col6\" class=\"data row7 col6\" >-0.061533</td>\n",
       "      <td id=\"T_3c7f3_row7_col7\" class=\"data row7 col7\" >1.000000</td>\n",
       "    </tr>\n",
       "  </tbody>\n",
       "</table>\n"
      ],
      "text/plain": [
       "<pandas.io.formats.style.Styler at 0x2f0eb222d00>"
      ]
     },
     "execution_count": 77,
     "metadata": {},
     "output_type": "execute_result"
    }
   ],
   "source": [
    "cat_corr = pd.get_dummies(df[['Species', 'Weight']]).corr()\n",
    "cat_corr.style.background_gradient(cmap='coolwarm')"
   ]
  },
  {
   "cell_type": "markdown",
   "metadata": {},
   "source": [
    "Diketahui jenis ikan bream, parkki, pike, roach, dan smelt memiliki korelasi yang besar dengan kolom weight. Melainkan jenis ikan perch dan whitefish tidak berkorelasi dengan kolom weight."
   ]
  },
  {
   "cell_type": "markdown",
   "metadata": {},
   "source": [
    "## Data Preprocessing"
   ]
  },
  {
   "cell_type": "markdown",
   "metadata": {},
   "source": [
    "### Data Inference\n",
    "Pada bagian data inference ini akan mengambil sample sebanyak **10 data** dari dataframe utama."
   ]
  },
  {
   "cell_type": "code",
   "execution_count": 78,
   "metadata": {},
   "outputs": [
    {
     "data": {
      "text/html": [
       "<div>\n",
       "<style scoped>\n",
       "    .dataframe tbody tr th:only-of-type {\n",
       "        vertical-align: middle;\n",
       "    }\n",
       "\n",
       "    .dataframe tbody tr th {\n",
       "        vertical-align: top;\n",
       "    }\n",
       "\n",
       "    .dataframe thead th {\n",
       "        text-align: right;\n",
       "    }\n",
       "</style>\n",
       "<table border=\"1\" class=\"dataframe\">\n",
       "  <thead>\n",
       "    <tr style=\"text-align: right;\">\n",
       "      <th></th>\n",
       "      <th>Species</th>\n",
       "      <th>Weight</th>\n",
       "      <th>Length1</th>\n",
       "      <th>Length2</th>\n",
       "      <th>Length3</th>\n",
       "      <th>Height</th>\n",
       "      <th>Width</th>\n",
       "    </tr>\n",
       "  </thead>\n",
       "  <tbody>\n",
       "    <tr>\n",
       "      <th>157</th>\n",
       "      <td>Smelt</td>\n",
       "      <td>19.7</td>\n",
       "      <td>13.2</td>\n",
       "      <td>14.3</td>\n",
       "      <td>15.2</td>\n",
       "      <td>2.8728</td>\n",
       "      <td>2.0672</td>\n",
       "    </tr>\n",
       "    <tr>\n",
       "      <th>63</th>\n",
       "      <td>Parkki</td>\n",
       "      <td>90.0</td>\n",
       "      <td>16.3</td>\n",
       "      <td>17.7</td>\n",
       "      <td>19.8</td>\n",
       "      <td>7.4052</td>\n",
       "      <td>2.6730</td>\n",
       "    </tr>\n",
       "    <tr>\n",
       "      <th>40</th>\n",
       "      <td>Roach</td>\n",
       "      <td>0.0</td>\n",
       "      <td>19.0</td>\n",
       "      <td>20.5</td>\n",
       "      <td>22.8</td>\n",
       "      <td>6.4752</td>\n",
       "      <td>3.3516</td>\n",
       "    </tr>\n",
       "    <tr>\n",
       "      <th>31</th>\n",
       "      <td>Bream</td>\n",
       "      <td>955.0</td>\n",
       "      <td>35.0</td>\n",
       "      <td>38.5</td>\n",
       "      <td>44.0</td>\n",
       "      <td>18.0840</td>\n",
       "      <td>6.2920</td>\n",
       "    </tr>\n",
       "    <tr>\n",
       "      <th>117</th>\n",
       "      <td>Perch</td>\n",
       "      <td>650.0</td>\n",
       "      <td>36.5</td>\n",
       "      <td>39.0</td>\n",
       "      <td>41.4</td>\n",
       "      <td>11.1366</td>\n",
       "      <td>6.0030</td>\n",
       "    </tr>\n",
       "    <tr>\n",
       "      <th>74</th>\n",
       "      <td>Perch</td>\n",
       "      <td>40.0</td>\n",
       "      <td>13.8</td>\n",
       "      <td>15.0</td>\n",
       "      <td>16.0</td>\n",
       "      <td>3.8240</td>\n",
       "      <td>2.4320</td>\n",
       "    </tr>\n",
       "    <tr>\n",
       "      <th>130</th>\n",
       "      <td>Pike</td>\n",
       "      <td>300.0</td>\n",
       "      <td>32.7</td>\n",
       "      <td>35.0</td>\n",
       "      <td>38.8</td>\n",
       "      <td>5.9364</td>\n",
       "      <td>4.3844</td>\n",
       "    </tr>\n",
       "    <tr>\n",
       "      <th>142</th>\n",
       "      <td>Pike</td>\n",
       "      <td>1600.0</td>\n",
       "      <td>56.0</td>\n",
       "      <td>60.0</td>\n",
       "      <td>64.0</td>\n",
       "      <td>9.6000</td>\n",
       "      <td>6.1440</td>\n",
       "    </tr>\n",
       "    <tr>\n",
       "      <th>111</th>\n",
       "      <td>Perch</td>\n",
       "      <td>840.0</td>\n",
       "      <td>32.5</td>\n",
       "      <td>35.0</td>\n",
       "      <td>37.3</td>\n",
       "      <td>11.4884</td>\n",
       "      <td>7.7957</td>\n",
       "    </tr>\n",
       "    <tr>\n",
       "      <th>25</th>\n",
       "      <td>Bream</td>\n",
       "      <td>725.0</td>\n",
       "      <td>31.8</td>\n",
       "      <td>35.0</td>\n",
       "      <td>40.9</td>\n",
       "      <td>16.3600</td>\n",
       "      <td>6.0532</td>\n",
       "    </tr>\n",
       "    <tr>\n",
       "      <th>9</th>\n",
       "      <td>Bream</td>\n",
       "      <td>500.0</td>\n",
       "      <td>28.5</td>\n",
       "      <td>30.7</td>\n",
       "      <td>36.2</td>\n",
       "      <td>14.2266</td>\n",
       "      <td>4.9594</td>\n",
       "    </tr>\n",
       "    <tr>\n",
       "      <th>68</th>\n",
       "      <td>Parkki</td>\n",
       "      <td>145.0</td>\n",
       "      <td>19.8</td>\n",
       "      <td>21.5</td>\n",
       "      <td>24.1</td>\n",
       "      <td>9.7364</td>\n",
       "      <td>3.1571</td>\n",
       "    </tr>\n",
       "    <tr>\n",
       "      <th>80</th>\n",
       "      <td>Perch</td>\n",
       "      <td>85.0</td>\n",
       "      <td>17.8</td>\n",
       "      <td>19.6</td>\n",
       "      <td>20.8</td>\n",
       "      <td>5.1376</td>\n",
       "      <td>3.0368</td>\n",
       "    </tr>\n",
       "    <tr>\n",
       "      <th>112</th>\n",
       "      <td>Perch</td>\n",
       "      <td>685.0</td>\n",
       "      <td>34.0</td>\n",
       "      <td>36.5</td>\n",
       "      <td>39.0</td>\n",
       "      <td>10.8810</td>\n",
       "      <td>6.8640</td>\n",
       "    </tr>\n",
       "    <tr>\n",
       "      <th>26</th>\n",
       "      <td>Bream</td>\n",
       "      <td>720.0</td>\n",
       "      <td>32.0</td>\n",
       "      <td>35.0</td>\n",
       "      <td>40.6</td>\n",
       "      <td>16.3618</td>\n",
       "      <td>6.0900</td>\n",
       "    </tr>\n",
       "    <tr>\n",
       "      <th>95</th>\n",
       "      <td>Perch</td>\n",
       "      <td>170.0</td>\n",
       "      <td>21.5</td>\n",
       "      <td>23.5</td>\n",
       "      <td>25.0</td>\n",
       "      <td>6.2750</td>\n",
       "      <td>3.7250</td>\n",
       "    </tr>\n",
       "    <tr>\n",
       "      <th>48</th>\n",
       "      <td>Roach</td>\n",
       "      <td>169.0</td>\n",
       "      <td>22.0</td>\n",
       "      <td>24.0</td>\n",
       "      <td>27.2</td>\n",
       "      <td>7.5344</td>\n",
       "      <td>3.8352</td>\n",
       "    </tr>\n",
       "    <tr>\n",
       "      <th>92</th>\n",
       "      <td>Perch</td>\n",
       "      <td>150.0</td>\n",
       "      <td>20.5</td>\n",
       "      <td>22.5</td>\n",
       "      <td>24.0</td>\n",
       "      <td>6.7920</td>\n",
       "      <td>3.6240</td>\n",
       "    </tr>\n",
       "    <tr>\n",
       "      <th>156</th>\n",
       "      <td>Smelt</td>\n",
       "      <td>12.2</td>\n",
       "      <td>12.1</td>\n",
       "      <td>13.0</td>\n",
       "      <td>13.8</td>\n",
       "      <td>2.2770</td>\n",
       "      <td>1.2558</td>\n",
       "    </tr>\n",
       "    <tr>\n",
       "      <th>6</th>\n",
       "      <td>Bream</td>\n",
       "      <td>500.0</td>\n",
       "      <td>26.8</td>\n",
       "      <td>29.7</td>\n",
       "      <td>34.5</td>\n",
       "      <td>14.1795</td>\n",
       "      <td>5.2785</td>\n",
       "    </tr>\n",
       "  </tbody>\n",
       "</table>\n",
       "</div>"
      ],
      "text/plain": [
       "    Species  Weight  Length1  Length2  Length3   Height   Width\n",
       "157   Smelt    19.7     13.2     14.3     15.2   2.8728  2.0672\n",
       "63   Parkki    90.0     16.3     17.7     19.8   7.4052  2.6730\n",
       "40    Roach     0.0     19.0     20.5     22.8   6.4752  3.3516\n",
       "31    Bream   955.0     35.0     38.5     44.0  18.0840  6.2920\n",
       "117   Perch   650.0     36.5     39.0     41.4  11.1366  6.0030\n",
       "74    Perch    40.0     13.8     15.0     16.0   3.8240  2.4320\n",
       "130    Pike   300.0     32.7     35.0     38.8   5.9364  4.3844\n",
       "142    Pike  1600.0     56.0     60.0     64.0   9.6000  6.1440\n",
       "111   Perch   840.0     32.5     35.0     37.3  11.4884  7.7957\n",
       "25    Bream   725.0     31.8     35.0     40.9  16.3600  6.0532\n",
       "9     Bream   500.0     28.5     30.7     36.2  14.2266  4.9594\n",
       "68   Parkki   145.0     19.8     21.5     24.1   9.7364  3.1571\n",
       "80    Perch    85.0     17.8     19.6     20.8   5.1376  3.0368\n",
       "112   Perch   685.0     34.0     36.5     39.0  10.8810  6.8640\n",
       "26    Bream   720.0     32.0     35.0     40.6  16.3618  6.0900\n",
       "95    Perch   170.0     21.5     23.5     25.0   6.2750  3.7250\n",
       "48    Roach   169.0     22.0     24.0     27.2   7.5344  3.8352\n",
       "92    Perch   150.0     20.5     22.5     24.0   6.7920  3.6240\n",
       "156   Smelt    12.2     12.1     13.0     13.8   2.2770  1.2558\n",
       "6     Bream   500.0     26.8     29.7     34.5  14.1795  5.2785"
      ]
     },
     "execution_count": 78,
     "metadata": {},
     "output_type": "execute_result"
    }
   ],
   "source": [
    "# Get Data Inference\n",
    "df_inf = df.sample(20, random_state=15)\n",
    "\n",
    "# Remove Data Inference from main dataframe\n",
    "df = df.drop(df_inf.index)\n",
    "\n",
    "df_inf"
   ]
  },
  {
   "cell_type": "markdown",
   "metadata": {},
   "source": [
    "### Split Data"
   ]
  },
  {
   "cell_type": "markdown",
   "metadata": {},
   "source": [
    "Membuat training set dan test set dengan perbandingan **8:2**, dimana:\n",
    "- **80%** data menjadi **training set**\n",
    "- **20%** data menjadi **test set**"
   ]
  },
  {
   "cell_type": "code",
   "execution_count": 79,
   "metadata": {},
   "outputs": [
    {
     "data": {
      "text/html": [
       "<div>\n",
       "<style scoped>\n",
       "    .dataframe tbody tr th:only-of-type {\n",
       "        vertical-align: middle;\n",
       "    }\n",
       "\n",
       "    .dataframe tbody tr th {\n",
       "        vertical-align: top;\n",
       "    }\n",
       "\n",
       "    .dataframe thead th {\n",
       "        text-align: right;\n",
       "    }\n",
       "</style>\n",
       "<table border=\"1\" class=\"dataframe\">\n",
       "  <thead>\n",
       "    <tr style=\"text-align: right;\">\n",
       "      <th></th>\n",
       "      <th>Species</th>\n",
       "      <th>Weight</th>\n",
       "      <th>Length1</th>\n",
       "      <th>Length2</th>\n",
       "      <th>Length3</th>\n",
       "      <th>Height</th>\n",
       "      <th>Width</th>\n",
       "    </tr>\n",
       "  </thead>\n",
       "  <tbody>\n",
       "    <tr>\n",
       "      <th>101</th>\n",
       "      <td>Perch</td>\n",
       "      <td>218.0</td>\n",
       "      <td>25.0</td>\n",
       "      <td>26.5</td>\n",
       "      <td>28.0</td>\n",
       "      <td>7.1680</td>\n",
       "      <td>4.1440</td>\n",
       "    </tr>\n",
       "    <tr>\n",
       "      <th>122</th>\n",
       "      <td>Perch</td>\n",
       "      <td>820.0</td>\n",
       "      <td>37.1</td>\n",
       "      <td>40.0</td>\n",
       "      <td>42.5</td>\n",
       "      <td>11.1350</td>\n",
       "      <td>6.6300</td>\n",
       "    </tr>\n",
       "    <tr>\n",
       "      <th>123</th>\n",
       "      <td>Perch</td>\n",
       "      <td>1100.0</td>\n",
       "      <td>39.0</td>\n",
       "      <td>42.0</td>\n",
       "      <td>44.6</td>\n",
       "      <td>12.8002</td>\n",
       "      <td>6.8684</td>\n",
       "    </tr>\n",
       "    <tr>\n",
       "      <th>87</th>\n",
       "      <td>Perch</td>\n",
       "      <td>120.0</td>\n",
       "      <td>20.0</td>\n",
       "      <td>22.0</td>\n",
       "      <td>23.5</td>\n",
       "      <td>5.6400</td>\n",
       "      <td>3.5250</td>\n",
       "    </tr>\n",
       "    <tr>\n",
       "      <th>28</th>\n",
       "      <td>Bream</td>\n",
       "      <td>850.0</td>\n",
       "      <td>32.8</td>\n",
       "      <td>36.0</td>\n",
       "      <td>41.6</td>\n",
       "      <td>16.8896</td>\n",
       "      <td>6.1984</td>\n",
       "    </tr>\n",
       "  </tbody>\n",
       "</table>\n",
       "</div>"
      ],
      "text/plain": [
       "    Species  Weight  Length1  Length2  Length3   Height   Width\n",
       "101   Perch   218.0     25.0     26.5     28.0   7.1680  4.1440\n",
       "122   Perch   820.0     37.1     40.0     42.5  11.1350  6.6300\n",
       "123   Perch  1100.0     39.0     42.0     44.6  12.8002  6.8684\n",
       "87    Perch   120.0     20.0     22.0     23.5   5.6400  3.5250\n",
       "28    Bream   850.0     32.8     36.0     41.6  16.8896  6.1984"
      ]
     },
     "execution_count": 79,
     "metadata": {},
     "output_type": "execute_result"
    }
   ],
   "source": [
    "df_train, df_test = train_test_split(df, test_size=0.2, random_state=23)\n",
    "df_train.head()"
   ]
  },
  {
   "cell_type": "code",
   "execution_count": 80,
   "metadata": {},
   "outputs": [
    {
     "data": {
      "text/html": [
       "<div>\n",
       "<style scoped>\n",
       "    .dataframe tbody tr th:only-of-type {\n",
       "        vertical-align: middle;\n",
       "    }\n",
       "\n",
       "    .dataframe tbody tr th {\n",
       "        vertical-align: top;\n",
       "    }\n",
       "\n",
       "    .dataframe thead th {\n",
       "        text-align: right;\n",
       "    }\n",
       "</style>\n",
       "<table border=\"1\" class=\"dataframe\">\n",
       "  <thead>\n",
       "    <tr style=\"text-align: right;\">\n",
       "      <th></th>\n",
       "      <th>Species</th>\n",
       "      <th>Weight</th>\n",
       "      <th>Length1</th>\n",
       "      <th>Length2</th>\n",
       "      <th>Length3</th>\n",
       "      <th>Height</th>\n",
       "      <th>Width</th>\n",
       "    </tr>\n",
       "  </thead>\n",
       "  <tbody>\n",
       "    <tr>\n",
       "      <th>115</th>\n",
       "      <td>Perch</td>\n",
       "      <td>690.0</td>\n",
       "      <td>34.6</td>\n",
       "      <td>37.0</td>\n",
       "      <td>39.3</td>\n",
       "      <td>10.5717</td>\n",
       "      <td>6.3666</td>\n",
       "    </tr>\n",
       "    <tr>\n",
       "      <th>79</th>\n",
       "      <td>Perch</td>\n",
       "      <td>80.0</td>\n",
       "      <td>17.2</td>\n",
       "      <td>19.0</td>\n",
       "      <td>20.2</td>\n",
       "      <td>5.6358</td>\n",
       "      <td>3.0502</td>\n",
       "    </tr>\n",
       "    <tr>\n",
       "      <th>3</th>\n",
       "      <td>Bream</td>\n",
       "      <td>363.0</td>\n",
       "      <td>26.3</td>\n",
       "      <td>29.0</td>\n",
       "      <td>33.5</td>\n",
       "      <td>12.7300</td>\n",
       "      <td>4.4555</td>\n",
       "    </tr>\n",
       "    <tr>\n",
       "      <th>147</th>\n",
       "      <td>Smelt</td>\n",
       "      <td>7.0</td>\n",
       "      <td>10.1</td>\n",
       "      <td>10.6</td>\n",
       "      <td>11.6</td>\n",
       "      <td>1.7284</td>\n",
       "      <td>1.1484</td>\n",
       "    </tr>\n",
       "    <tr>\n",
       "      <th>146</th>\n",
       "      <td>Smelt</td>\n",
       "      <td>7.5</td>\n",
       "      <td>10.0</td>\n",
       "      <td>10.5</td>\n",
       "      <td>11.6</td>\n",
       "      <td>1.9720</td>\n",
       "      <td>1.1600</td>\n",
       "    </tr>\n",
       "  </tbody>\n",
       "</table>\n",
       "</div>"
      ],
      "text/plain": [
       "    Species  Weight  Length1  Length2  Length3   Height   Width\n",
       "115   Perch   690.0     34.6     37.0     39.3  10.5717  6.3666\n",
       "79    Perch    80.0     17.2     19.0     20.2   5.6358  3.0502\n",
       "3     Bream   363.0     26.3     29.0     33.5  12.7300  4.4555\n",
       "147   Smelt     7.0     10.1     10.6     11.6   1.7284  1.1484\n",
       "146   Smelt     7.5     10.0     10.5     11.6   1.9720  1.1600"
      ]
     },
     "execution_count": 80,
     "metadata": {},
     "output_type": "execute_result"
    }
   ],
   "source": [
    "df_test.head()"
   ]
  },
  {
   "cell_type": "code",
   "execution_count": 81,
   "metadata": {},
   "outputs": [
    {
     "name": "stdout",
     "output_type": "stream",
     "text": [
      "df_train proportion: 0.8\n",
      "df_test proportion: 0.2\n"
     ]
    }
   ],
   "source": [
    "print(f'df_train proportion: {len(df_train) / len(df):.1f}')\n",
    "print(f'df_test proportion: {len(df_test) / len(df):.1f}')"
   ]
  },
  {
   "cell_type": "code",
   "execution_count": 82,
   "metadata": {},
   "outputs": [
    {
     "data": {
      "text/html": [
       "<div>\n",
       "<style scoped>\n",
       "    .dataframe tbody tr th:only-of-type {\n",
       "        vertical-align: middle;\n",
       "    }\n",
       "\n",
       "    .dataframe tbody tr th {\n",
       "        vertical-align: top;\n",
       "    }\n",
       "\n",
       "    .dataframe thead th {\n",
       "        text-align: right;\n",
       "    }\n",
       "</style>\n",
       "<table border=\"1\" class=\"dataframe\">\n",
       "  <thead>\n",
       "    <tr style=\"text-align: right;\">\n",
       "      <th></th>\n",
       "      <th>columns</th>\n",
       "      <th>skew</th>\n",
       "      <th>status</th>\n",
       "    </tr>\n",
       "  </thead>\n",
       "  <tbody>\n",
       "    <tr>\n",
       "      <th>0</th>\n",
       "      <td>Weight</td>\n",
       "      <td>1.076700</td>\n",
       "      <td>Skewed</td>\n",
       "    </tr>\n",
       "    <tr>\n",
       "      <th>1</th>\n",
       "      <td>Length1</td>\n",
       "      <td>0.530267</td>\n",
       "      <td>Skewed</td>\n",
       "    </tr>\n",
       "    <tr>\n",
       "      <th>2</th>\n",
       "      <td>Length2</td>\n",
       "      <td>0.482240</td>\n",
       "      <td>Normal</td>\n",
       "    </tr>\n",
       "    <tr>\n",
       "      <th>3</th>\n",
       "      <td>Length3</td>\n",
       "      <td>0.344974</td>\n",
       "      <td>Normal</td>\n",
       "    </tr>\n",
       "    <tr>\n",
       "      <th>4</th>\n",
       "      <td>Height</td>\n",
       "      <td>0.402214</td>\n",
       "      <td>Normal</td>\n",
       "    </tr>\n",
       "    <tr>\n",
       "      <th>5</th>\n",
       "      <td>Width</td>\n",
       "      <td>-0.007549</td>\n",
       "      <td>Normal</td>\n",
       "    </tr>\n",
       "  </tbody>\n",
       "</table>\n",
       "</div>"
      ],
      "text/plain": [
       "   columns      skew  status\n",
       "0   Weight  1.076700  Skewed\n",
       "1  Length1  0.530267  Skewed\n",
       "2  Length2  0.482240  Normal\n",
       "3  Length3  0.344974  Normal\n",
       "4   Height  0.402214  Normal\n",
       "5    Width -0.007549  Normal"
      ]
     },
     "execution_count": 82,
     "metadata": {},
     "output_type": "execute_result"
    }
   ],
   "source": [
    "preprocess_handling = pd.DataFrame({'columns':df_train.describe().columns, 'skew' : df.skew(axis=0)})\n",
    "preprocess_handling.reset_index(drop=True, inplace=True)\n",
    "\n",
    "preprocess_handling['status'] = np.where(preprocess_handling['skew'].abs()>0.5, 'Skewed', 'Normal')\n",
    "preprocess_handling"
   ]
  },
  {
   "cell_type": "markdown",
   "metadata": {},
   "source": [
    "### Handling Outlier\n",
    "> Pada bagian ini akan dilakukan outlier handling untuk kolom `Length1` dan `Length2` pada `df_train`."
   ]
  },
  {
   "cell_type": "code",
   "execution_count": 83,
   "metadata": {},
   "outputs": [
    {
     "data": {
      "image/png": "[encoded data removed]",
      "text/plain": [
       "<Figure size 1152x288 with 2 Axes>"
      ]
     },
     "metadata": {
      "needs_background": "light"
     },
     "output_type": "display_data"
    },
    {
     "data": {
      "image/png": "[encoded data removed]",
      "text/plain": [
       "<Figure size 1152x288 with 2 Axes>"
      ]
     },
     "metadata": {
      "needs_background": "light"
     },
     "output_type": "display_data"
    },
    {
     "data": {
      "image/png": "[encoded data removed]",
      "text/plain": [
       "<Figure size 1152x288 with 2 Axes>"
      ]
     },
     "metadata": {
      "needs_background": "light"
     },
     "output_type": "display_data"
    },
    {
     "data": {
      "image/png": "[encoded data removed]",
      "text/plain": [
       "<Figure size 1152x288 with 2 Axes>"
      ]
     },
     "metadata": {
      "needs_background": "light"
     },
     "output_type": "display_data"
    },
    {
     "data": {
      "image/png": "[encoded data removed]",
      "text/plain": [
       "<Figure size 1152x288 with 2 Axes>"
      ]
     },
     "metadata": {
      "needs_background": "light"
     },
     "output_type": "display_data"
    }
   ],
   "source": [
    "def diagnostic_plots(df_train, variables):\n",
    "    # Define Figure Size\n",
    "    plt.figure(figsize=(16, 4))\n",
    "\n",
    "    # Histogram\n",
    "    plt.subplot(1, 2, 1)\n",
    "    sns.distplot(df_train[variables], bins=30)\n",
    "    plt.title('Histogram')\n",
    "\n",
    "    # Boxplot\n",
    "    plt.subplot(1, 2, 2)\n",
    "    sns.boxplot(y=df_train[variables])\n",
    "    plt.title('Boxplot')\n",
    "\n",
    "    plt.show\n",
    "\n",
    "# Cek Outlier pada kolom \n",
    "\n",
    "diagnostic_plots(df_train, 'Length1')\n",
    "diagnostic_plots(df_train, 'Length2')\n",
    "diagnostic_plots(df_train, 'Length3')\n",
    "diagnostic_plots(df_train, 'Height')\n",
    "diagnostic_plots(df_train, 'Width')"
   ]
  },
  {
   "cell_type": "code",
   "execution_count": 84,
   "metadata": {},
   "outputs": [
    {
     "name": "stdout",
     "output_type": "stream",
     "text": [
      "(-1.3499999999999943, 53.849999999999994)\n",
      "(-1.1250000000000036, 58.275000000000006)\n"
     ]
    }
   ],
   "source": [
    "def find_skewed_boundaries(df, col):\n",
    "    IQR = df[col].quantile(0.75) - df[col].quantile(0.25)\n",
    "    lower_bound = df[col].quantile(0.25) - (IQR * 1.5)\n",
    "    upper_bound = df[col].quantile(0.75) + (IQR * 1.5)\n",
    "\n",
    "    return lower_bound, upper_bound\n",
    "\n",
    "print(find_skewed_boundaries(df_train, 'Length1'))\n",
    "print(find_skewed_boundaries(df_train, 'Length2'))\n"
   ]
  },
  {
   "cell_type": "code",
   "execution_count": 85,
   "metadata": {},
   "outputs": [
    {
     "name": "stdout",
     "output_type": "stream",
     "text": [
      "Number of outliers (Length1): 1\n",
      "Number of outliers (Length2): 1\n"
     ]
    }
   ],
   "source": [
    "a_lower_boundary, a_upper_boundary = find_skewed_boundaries(df_train, 'Length1')\n",
    "b_lower_boundary, b_upper_boundary = find_skewed_boundaries(df_train, 'Length2')\n",
    "print(f'Number of outliers (Length1): {len(df_train[(df_train.Length1 < a_lower_boundary) | (df_train.Length1 > a_upper_boundary)])}')\n",
    "print(f'Number of outliers (Length2): {len(df_train[(df_train.Length2 < b_lower_boundary) | (df_train.Length2 > b_upper_boundary)])}')"
   ]
  },
  {
   "cell_type": "code",
   "execution_count": 86,
   "metadata": {},
   "outputs": [
    {
     "data": {
      "image/png": "[encoded data removed]",
      "text/plain": [
       "<Figure size 1440x432 with 2 Axes>"
      ]
     },
     "metadata": {
      "needs_background": "light"
     },
     "output_type": "display_data"
    }
   ],
   "source": [
    "df_train = df_train[(df_train.Height > a_lower_boundary) & (df_train.Height < a_upper_boundary)]\n",
    "\n",
    "plt.figure(figsize=(20, 6))\n",
    "plt.subplot(1, 2, 1)\n",
    "sns.histplot(x='Length1', data=df_train, bins=50, kde=True)\n",
    "plt.axvline(df_train.Length1.mean(), color='red', linestyle='dashed', linewidth=2, label='Mean')\n",
    "plt.axvline(df_train.Length1.median(), color='green', linestyle='dashed', linewidth=2, label='Median')\n",
    "plt.title('Length1 Distribution After Outlier Handling')\n",
    "plt.xlabel('Length1')\n",
    "plt.ylabel('Frequency')\n",
    "plt.legend()\n",
    "plt.subplot(1, 2, 2)\n",
    "sns.boxplot(x='Length1', data=df_train)\n",
    "plt.title('Length1 Distribution After Outlier Handling')\n",
    "plt.xlabel('Length1')\n",
    "plt.ylabel('Frequency')\n",
    "\n",
    "plt.show()"
   ]
  },
  {
   "cell_type": "code",
   "execution_count": 87,
   "metadata": {},
   "outputs": [
    {
     "data": {
      "image/png": "[encoded data removed]",
      "text/plain": [
       "<Figure size 1440x432 with 2 Axes>"
      ]
     },
     "metadata": {
      "needs_background": "light"
     },
     "output_type": "display_data"
    }
   ],
   "source": [
    "df_train = df_train[(df_train.Length2 > b_lower_boundary) & (df_train.Length2 < b_upper_boundary)]\n",
    "\n",
    "plt.figure(figsize=(20, 6))\n",
    "plt.subplot(1, 2, 1)\n",
    "sns.histplot(x='Length2', data=df_train, bins=50, kde=True)\n",
    "plt.axvline(df_train.Length2.mean(), color='red', linestyle='dashed', linewidth=2, label='Mean')\n",
    "plt.axvline(df_train.Length2.median(), color='green', linestyle='dashed', linewidth=2, label='Median')\n",
    "plt.title('Length2 Distribution After Outlier Handling')\n",
    "plt.xlabel('Length2')\n",
    "plt.ylabel('Frequency')\n",
    "plt.legend()\n",
    "plt.subplot(1, 2, 2)\n",
    "sns.boxplot(x='Length2', data=df_train)\n",
    "plt.title('Length2 Distribution After Outlier Handling')\n",
    "plt.xlabel('Length2')\n",
    "plt.ylabel('Frequency')\n",
    "\n",
    "plt.show()"
   ]
  },
  {
   "cell_type": "markdown",
   "metadata": {},
   "source": [
    "### Handling Missing Values"
   ]
  },
  {
   "cell_type": "code",
   "execution_count": 88,
   "metadata": {},
   "outputs": [
    {
     "data": {
      "text/plain": [
       "Species    0\n",
       "Weight     0\n",
       "Length1    0\n",
       "Length2    0\n",
       "Length3    0\n",
       "Height     0\n",
       "Width      0\n",
       "dtype: int64"
      ]
     },
     "execution_count": 88,
     "metadata": {},
     "output_type": "execute_result"
    }
   ],
   "source": [
    "df_train.isna().sum()"
   ]
  },
  {
   "cell_type": "code",
   "execution_count": 89,
   "metadata": {},
   "outputs": [
    {
     "data": {
      "text/plain": [
       "Species    0\n",
       "Weight     0\n",
       "Length1    0\n",
       "Length2    0\n",
       "Length3    0\n",
       "Height     0\n",
       "Width      0\n",
       "dtype: int64"
      ]
     },
     "execution_count": 89,
     "metadata": {},
     "output_type": "execute_result"
    }
   ],
   "source": [
    "df_test.isna().sum()"
   ]
  },
  {
   "cell_type": "code",
   "execution_count": 90,
   "metadata": {},
   "outputs": [
    {
     "data": {
      "text/plain": [
       "Species    0\n",
       "Weight     0\n",
       "Length1    0\n",
       "Length2    0\n",
       "Length3    0\n",
       "Height     0\n",
       "Width      0\n",
       "dtype: int64"
      ]
     },
     "execution_count": 90,
     "metadata": {},
     "output_type": "execute_result"
    }
   ],
   "source": [
    "df_inf.isna().sum()"
   ]
  },
  {
   "cell_type": "markdown",
   "metadata": {},
   "source": [
    "Tidak terdapat mising value pada 'df_train', 'df_test', dan 'df_inf'."
   ]
  },
  {
   "cell_type": "markdown",
   "metadata": {},
   "source": [
    "### Feature Engineering"
   ]
  },
  {
   "cell_type": "markdown",
   "metadata": {},
   "source": [
    "#### Feature Selection"
   ]
  },
  {
   "cell_type": "markdown",
   "metadata": {},
   "source": [
    "Berdasarkan hasil **EDA**, semua kolom akan dijadikan **features** selain kolom `Weight` yang akan menjadi **label**."
   ]
  },
  {
   "cell_type": "code",
   "execution_count": 91,
   "metadata": {},
   "outputs": [],
   "source": [
    "X_train = df_train[['Species', 'Length1', 'Length2', 'Length3', 'Height', 'Width']] # Features\n",
    "y_train = df_train.Weight # Target\n",
    "\n",
    "X_test = df_test[['Species', 'Length1', 'Length2', 'Length3', 'Height', 'Width']] # Features\n",
    "y_test = df_test.Weight # Target"
   ]
  },
  {
   "cell_type": "markdown",
   "metadata": {},
   "source": [
    "#### Pipeline"
   ]
  },
  {
   "cell_type": "markdown",
   "metadata": {},
   "source": [
    "Pada bagian ini akan dibuat pipeline untuk melakukan normalisasi data (**scaling**) menggunakan `StandardScaler()` dan melakukan **encoding** menggunakan `OneHotEncoder()` sekaligus untuk membuat model."
   ]
  },
  {
   "cell_type": "markdown",
   "metadata": {},
   "source": [
    "Membuat pipeline untuk melakukan prepocessing features, dimana:\n",
    "- `num_pipe` adalah pipeline untuk **scaling** features numerical menggunakan `StandardScaler()`\n",
    "- `cat_pipe` adalah pipeline untuk **encoding** features categorical menggunakan `OneHotEncoder()`\n",
    "\n",
    "Lalu, kedua pipeline akan digabungkan menjadi 1 pipeline **preprocessing** menggunakan `ColumnTransformer()`."
   ]
  },
  {
   "cell_type": "code",
   "execution_count": 92,
   "metadata": {},
   "outputs": [],
   "source": [
    "# Numeric Features Scaling\n",
    "num_pipe = Pipeline([('scaling', StandardScaler())])\n",
    "\n",
    "# Categorical Features Encoding\n",
    "cat_pipe = Pipeline([('encode', OneHotEncoder())])\n",
    "\n",
    "# Preprocessing Pipeline\n",
    "preprocess = ColumnTransformer([\n",
    "    ('num',num_pipe, X_train.select_dtypes(include=['float64', 'int64']).columns),\n",
    "    ('cat',cat_pipe, X_train.select_dtypes(include=['object']).columns)\n",
    "])"
   ]
  },
  {
   "cell_type": "markdown",
   "metadata": {},
   "source": [
    "Membuat pipeline untuk melakukan preprocessing dan juga modeling."
   ]
  },
  {
   "cell_type": "code",
   "execution_count": 93,
   "metadata": {},
   "outputs": [],
   "source": [
    "# Linear Regression Pipeline\n",
    "linear_pipe = Pipeline([('preprocessing', preprocess), ('regression', LinearRegression())])"
   ]
  },
  {
   "cell_type": "markdown",
   "metadata": {},
   "source": [
    "Membuat dictionary yang berisi **hyperparameter** untuk setiap model yang nantinya akan dicari parameter apa yang paling baik dengan menggunakan **grid search** untuk dataset yang digunakan dan menggunakan hyperparameter tersebut untuk melakukan prediksi."
   ]
  },
  {
   "cell_type": "code",
   "execution_count": 94,
   "metadata": {},
   "outputs": [],
   "source": [
    "# Linear Regression\n",
    "linear_params = {'regression__fit_intercept': [True, False],\n",
    "                    'regression__normalize': [True, False],\n",
    "                    'regression__copy_X': [True, False],\n",
    "                    'regression__n_jobs': [-1]}\n"
   ]
  },
  {
   "cell_type": "markdown",
   "metadata": {},
   "source": [
    "## Model Definition"
   ]
  },
  {
   "cell_type": "markdown",
   "metadata": {},
   "source": [
    "Pada bagian ini akan dibuat model, yaitu `linear` yang merupakan model untuk **Linear Regression**\n",
    "\n",
    "Dimana model akan dituning menggunakan `GridSearchCV` dengan **5 Cross-Validation**."
   ]
  },
  {
   "cell_type": "code",
   "execution_count": 95,
   "metadata": {},
   "outputs": [],
   "source": [
    "linear = GridSearchCV(linear_pipe, param_grid=linear_params, cv=5, n_jobs=-1)"
   ]
  },
  {
   "cell_type": "markdown",
   "metadata": {},
   "source": [
    "## Model Training"
   ]
  },
  {
   "cell_type": "markdown",
   "metadata": {},
   "source": [
    "Sekarang setiap model akan dilatih dengan menggunakan `X_train` dan `y_train`, lalu mencari **estimator** paling baik yang kemudian akan digunakan untuk prediksi."
   ]
  },
  {
   "cell_type": "code",
   "execution_count": 96,
   "metadata": {},
   "outputs": [
    {
     "name": "stdout",
     "output_type": "stream",
     "text": [
      "102 ms ± 4.17 ms per loop (mean ± std. dev. of 7 runs, 1 loop each)\n"
     ]
    }
   ],
   "source": [
    "%timeit linear.fit(X_train, y_train)"
   ]
  },
  {
   "cell_type": "code",
   "execution_count": 97,
   "metadata": {},
   "outputs": [
    {
     "name": "stdout",
     "output_type": "stream",
     "text": [
      "-------Linear Regression Best Hyperparameter-------\n",
      "{'regression__copy_X': True, 'regression__fit_intercept': True, 'regression__n_jobs': -1, 'regression__normalize': False}\n"
     ]
    }
   ],
   "source": [
    "best_linear = linear.best_estimator_\n",
    "print('-------Linear Regression Best Hyperparameter-------')\n",
    "print(linear.best_params_)"
   ]
  },
  {
   "cell_type": "markdown",
   "metadata": {},
   "source": [
    "## Model Evaluation"
   ]
  },
  {
   "cell_type": "markdown",
   "metadata": {},
   "source": [
    "Pada bagian akan dilakukan evaluasi untuk melihat performa dengan menggunakan $R^2 Score$ dan $Mean Absolute Error$ (MAE) dari model. "
   ]
  },
  {
   "cell_type": "code",
   "execution_count": 98,
   "metadata": {},
   "outputs": [
    {
     "name": "stdout",
     "output_type": "stream",
     "text": [
      "----Training Set----\n",
      "Training Score (R2): 0.95\n",
      "Training Mean Absolute Error (MAE): 53.42029852174204\n",
      "----Testing Set----\n",
      "Validation Score (R2): 0.90\n",
      "Validation Mean Absolute Error (MAE): 74.11301298602093\n",
      "Wall time: 16 ms\n"
     ]
    }
   ],
   "source": [
    "%%time\n",
    "print('----Training Set----')\n",
    "print(f'Training Score (R2): {best_linear.score(X_train, y_train):.2f}')\n",
    "print(f'Training Mean Absolute Error (MAE): {mean_absolute_error(y_train, best_linear.predict(X_train))}')\n",
    "print('----Testing Set----')\n",
    "print(f'Validation Score (R2): {best_linear.score(X_test, y_test):.2f}')\n",
    "print(f'Validation Mean Absolute Error (MAE): {mean_absolute_error(y_test, best_linear.predict(X_test))}')"
   ]
  },
  {
   "cell_type": "markdown",
   "metadata": {},
   "source": [
    "## Model Analysis"
   ]
  },
  {
   "cell_type": "markdown",
   "metadata": {},
   "source": [
    "Dari hasil evaluasi pada model diatas, didapatkan model **Linear Regression** biasa memiliki akurasi paling rendah dengan **R2 Score 0.94** dan **MAE 57.41737064146463** pada training setnya dan pada testing setnya mendapat **R2 Score 0.91** dan **MAE 78.40373435716334**, dimana score-score tersebut tergolong goodfit."
   ]
  },
  {
   "cell_type": "markdown",
   "metadata": {},
   "source": [
    "## Model Testing (Data Inference)"
   ]
  },
  {
   "cell_type": "markdown",
   "metadata": {},
   "source": [
    "Model yang sebelumnya melakukan prediksi terhadap data inference."
   ]
  },
  {
   "cell_type": "code",
   "execution_count": 99,
   "metadata": {},
   "outputs": [
    {
     "data": {
      "text/html": [
       "<div>\n",
       "<style scoped>\n",
       "    .dataframe tbody tr th:only-of-type {\n",
       "        vertical-align: middle;\n",
       "    }\n",
       "\n",
       "    .dataframe tbody tr th {\n",
       "        vertical-align: top;\n",
       "    }\n",
       "\n",
       "    .dataframe thead th {\n",
       "        text-align: right;\n",
       "    }\n",
       "</style>\n",
       "<table border=\"1\" class=\"dataframe\">\n",
       "  <thead>\n",
       "    <tr style=\"text-align: right;\">\n",
       "      <th></th>\n",
       "      <th>Species</th>\n",
       "      <th>Weight</th>\n",
       "      <th>Length1</th>\n",
       "      <th>Length2</th>\n",
       "      <th>Length3</th>\n",
       "      <th>Height</th>\n",
       "      <th>Width</th>\n",
       "    </tr>\n",
       "  </thead>\n",
       "  <tbody>\n",
       "    <tr>\n",
       "      <th>0</th>\n",
       "      <td>Smelt</td>\n",
       "      <td>19.7</td>\n",
       "      <td>13.2</td>\n",
       "      <td>14.3</td>\n",
       "      <td>15.2</td>\n",
       "      <td>2.8728</td>\n",
       "      <td>2.0672</td>\n",
       "    </tr>\n",
       "    <tr>\n",
       "      <th>1</th>\n",
       "      <td>Parkki</td>\n",
       "      <td>90.0</td>\n",
       "      <td>16.3</td>\n",
       "      <td>17.7</td>\n",
       "      <td>19.8</td>\n",
       "      <td>7.4052</td>\n",
       "      <td>2.6730</td>\n",
       "    </tr>\n",
       "    <tr>\n",
       "      <th>2</th>\n",
       "      <td>Roach</td>\n",
       "      <td>0.0</td>\n",
       "      <td>19.0</td>\n",
       "      <td>20.5</td>\n",
       "      <td>22.8</td>\n",
       "      <td>6.4752</td>\n",
       "      <td>3.3516</td>\n",
       "    </tr>\n",
       "    <tr>\n",
       "      <th>3</th>\n",
       "      <td>Bream</td>\n",
       "      <td>955.0</td>\n",
       "      <td>35.0</td>\n",
       "      <td>38.5</td>\n",
       "      <td>44.0</td>\n",
       "      <td>18.0840</td>\n",
       "      <td>6.2920</td>\n",
       "    </tr>\n",
       "    <tr>\n",
       "      <th>4</th>\n",
       "      <td>Perch</td>\n",
       "      <td>650.0</td>\n",
       "      <td>36.5</td>\n",
       "      <td>39.0</td>\n",
       "      <td>41.4</td>\n",
       "      <td>11.1366</td>\n",
       "      <td>6.0030</td>\n",
       "    </tr>\n",
       "    <tr>\n",
       "      <th>5</th>\n",
       "      <td>Perch</td>\n",
       "      <td>40.0</td>\n",
       "      <td>13.8</td>\n",
       "      <td>15.0</td>\n",
       "      <td>16.0</td>\n",
       "      <td>3.8240</td>\n",
       "      <td>2.4320</td>\n",
       "    </tr>\n",
       "    <tr>\n",
       "      <th>6</th>\n",
       "      <td>Pike</td>\n",
       "      <td>300.0</td>\n",
       "      <td>32.7</td>\n",
       "      <td>35.0</td>\n",
       "      <td>38.8</td>\n",
       "      <td>5.9364</td>\n",
       "      <td>4.3844</td>\n",
       "    </tr>\n",
       "    <tr>\n",
       "      <th>7</th>\n",
       "      <td>Pike</td>\n",
       "      <td>1600.0</td>\n",
       "      <td>56.0</td>\n",
       "      <td>60.0</td>\n",
       "      <td>64.0</td>\n",
       "      <td>9.6000</td>\n",
       "      <td>6.1440</td>\n",
       "    </tr>\n",
       "    <tr>\n",
       "      <th>8</th>\n",
       "      <td>Perch</td>\n",
       "      <td>840.0</td>\n",
       "      <td>32.5</td>\n",
       "      <td>35.0</td>\n",
       "      <td>37.3</td>\n",
       "      <td>11.4884</td>\n",
       "      <td>7.7957</td>\n",
       "    </tr>\n",
       "    <tr>\n",
       "      <th>9</th>\n",
       "      <td>Bream</td>\n",
       "      <td>725.0</td>\n",
       "      <td>31.8</td>\n",
       "      <td>35.0</td>\n",
       "      <td>40.9</td>\n",
       "      <td>16.3600</td>\n",
       "      <td>6.0532</td>\n",
       "    </tr>\n",
       "    <tr>\n",
       "      <th>10</th>\n",
       "      <td>Bream</td>\n",
       "      <td>500.0</td>\n",
       "      <td>28.5</td>\n",
       "      <td>30.7</td>\n",
       "      <td>36.2</td>\n",
       "      <td>14.2266</td>\n",
       "      <td>4.9594</td>\n",
       "    </tr>\n",
       "    <tr>\n",
       "      <th>11</th>\n",
       "      <td>Parkki</td>\n",
       "      <td>145.0</td>\n",
       "      <td>19.8</td>\n",
       "      <td>21.5</td>\n",
       "      <td>24.1</td>\n",
       "      <td>9.7364</td>\n",
       "      <td>3.1571</td>\n",
       "    </tr>\n",
       "    <tr>\n",
       "      <th>12</th>\n",
       "      <td>Perch</td>\n",
       "      <td>85.0</td>\n",
       "      <td>17.8</td>\n",
       "      <td>19.6</td>\n",
       "      <td>20.8</td>\n",
       "      <td>5.1376</td>\n",
       "      <td>3.0368</td>\n",
       "    </tr>\n",
       "    <tr>\n",
       "      <th>13</th>\n",
       "      <td>Perch</td>\n",
       "      <td>685.0</td>\n",
       "      <td>34.0</td>\n",
       "      <td>36.5</td>\n",
       "      <td>39.0</td>\n",
       "      <td>10.8810</td>\n",
       "      <td>6.8640</td>\n",
       "    </tr>\n",
       "    <tr>\n",
       "      <th>14</th>\n",
       "      <td>Bream</td>\n",
       "      <td>720.0</td>\n",
       "      <td>32.0</td>\n",
       "      <td>35.0</td>\n",
       "      <td>40.6</td>\n",
       "      <td>16.3618</td>\n",
       "      <td>6.0900</td>\n",
       "    </tr>\n",
       "    <tr>\n",
       "      <th>15</th>\n",
       "      <td>Perch</td>\n",
       "      <td>170.0</td>\n",
       "      <td>21.5</td>\n",
       "      <td>23.5</td>\n",
       "      <td>25.0</td>\n",
       "      <td>6.2750</td>\n",
       "      <td>3.7250</td>\n",
       "    </tr>\n",
       "    <tr>\n",
       "      <th>16</th>\n",
       "      <td>Roach</td>\n",
       "      <td>169.0</td>\n",
       "      <td>22.0</td>\n",
       "      <td>24.0</td>\n",
       "      <td>27.2</td>\n",
       "      <td>7.5344</td>\n",
       "      <td>3.8352</td>\n",
       "    </tr>\n",
       "    <tr>\n",
       "      <th>17</th>\n",
       "      <td>Perch</td>\n",
       "      <td>150.0</td>\n",
       "      <td>20.5</td>\n",
       "      <td>22.5</td>\n",
       "      <td>24.0</td>\n",
       "      <td>6.7920</td>\n",
       "      <td>3.6240</td>\n",
       "    </tr>\n",
       "    <tr>\n",
       "      <th>18</th>\n",
       "      <td>Smelt</td>\n",
       "      <td>12.2</td>\n",
       "      <td>12.1</td>\n",
       "      <td>13.0</td>\n",
       "      <td>13.8</td>\n",
       "      <td>2.2770</td>\n",
       "      <td>1.2558</td>\n",
       "    </tr>\n",
       "    <tr>\n",
       "      <th>19</th>\n",
       "      <td>Bream</td>\n",
       "      <td>500.0</td>\n",
       "      <td>26.8</td>\n",
       "      <td>29.7</td>\n",
       "      <td>34.5</td>\n",
       "      <td>14.1795</td>\n",
       "      <td>5.2785</td>\n",
       "    </tr>\n",
       "  </tbody>\n",
       "</table>\n",
       "</div>"
      ],
      "text/plain": [
       "   Species  Weight  Length1  Length2  Length3   Height   Width\n",
       "0    Smelt    19.7     13.2     14.3     15.2   2.8728  2.0672\n",
       "1   Parkki    90.0     16.3     17.7     19.8   7.4052  2.6730\n",
       "2    Roach     0.0     19.0     20.5     22.8   6.4752  3.3516\n",
       "3    Bream   955.0     35.0     38.5     44.0  18.0840  6.2920\n",
       "4    Perch   650.0     36.5     39.0     41.4  11.1366  6.0030\n",
       "5    Perch    40.0     13.8     15.0     16.0   3.8240  2.4320\n",
       "6     Pike   300.0     32.7     35.0     38.8   5.9364  4.3844\n",
       "7     Pike  1600.0     56.0     60.0     64.0   9.6000  6.1440\n",
       "8    Perch   840.0     32.5     35.0     37.3  11.4884  7.7957\n",
       "9    Bream   725.0     31.8     35.0     40.9  16.3600  6.0532\n",
       "10   Bream   500.0     28.5     30.7     36.2  14.2266  4.9594\n",
       "11  Parkki   145.0     19.8     21.5     24.1   9.7364  3.1571\n",
       "12   Perch    85.0     17.8     19.6     20.8   5.1376  3.0368\n",
       "13   Perch   685.0     34.0     36.5     39.0  10.8810  6.8640\n",
       "14   Bream   720.0     32.0     35.0     40.6  16.3618  6.0900\n",
       "15   Perch   170.0     21.5     23.5     25.0   6.2750  3.7250\n",
       "16   Roach   169.0     22.0     24.0     27.2   7.5344  3.8352\n",
       "17   Perch   150.0     20.5     22.5     24.0   6.7920  3.6240\n",
       "18   Smelt    12.2     12.1     13.0     13.8   2.2770  1.2558\n",
       "19   Bream   500.0     26.8     29.7     34.5  14.1795  5.2785"
      ]
     },
     "execution_count": 99,
     "metadata": {},
     "output_type": "execute_result"
    }
   ],
   "source": [
    "df_inf = df_inf.reset_index(drop=True)\n",
    "df_inf"
   ]
  },
  {
   "cell_type": "markdown",
   "metadata": {},
   "source": [
    "### Inference Prediction"
   ]
  },
  {
   "cell_type": "code",
   "execution_count": 100,
   "metadata": {},
   "outputs": [
    {
     "data": {
      "text/plain": [
       "array([ 127.44794077,    9.61371245,  111.45062948,  898.3617592 ,\n",
       "        771.36984057, -141.68191717,  328.73398057, 1066.69511133,\n",
       "        774.43937595,  744.45529736,  504.82722819,  200.87215086,\n",
       "         39.5597789 ,  744.92378838,  739.10738615,  189.27097827,\n",
       "        253.14427669,  187.423788  ,   43.39517659,  521.41440493])"
      ]
     },
     "execution_count": 100,
     "metadata": {},
     "output_type": "execute_result"
    }
   ],
   "source": [
    "y_pred_inf = best_linear.predict(df_inf)\n",
    "y_pred_inf"
   ]
  },
  {
   "cell_type": "code",
   "execution_count": 101,
   "metadata": {},
   "outputs": [
    {
     "data": {
      "text/html": [
       "<div>\n",
       "<style scoped>\n",
       "    .dataframe tbody tr th:only-of-type {\n",
       "        vertical-align: middle;\n",
       "    }\n",
       "\n",
       "    .dataframe tbody tr th {\n",
       "        vertical-align: top;\n",
       "    }\n",
       "\n",
       "    .dataframe thead th {\n",
       "        text-align: right;\n",
       "    }\n",
       "</style>\n",
       "<table border=\"1\" class=\"dataframe\">\n",
       "  <thead>\n",
       "    <tr style=\"text-align: right;\">\n",
       "      <th></th>\n",
       "      <th>Predicted Weight</th>\n",
       "    </tr>\n",
       "  </thead>\n",
       "  <tbody>\n",
       "    <tr>\n",
       "      <th>0</th>\n",
       "      <td>127.447941</td>\n",
       "    </tr>\n",
       "    <tr>\n",
       "      <th>1</th>\n",
       "      <td>9.613712</td>\n",
       "    </tr>\n",
       "    <tr>\n",
       "      <th>2</th>\n",
       "      <td>111.450629</td>\n",
       "    </tr>\n",
       "    <tr>\n",
       "      <th>3</th>\n",
       "      <td>898.361759</td>\n",
       "    </tr>\n",
       "    <tr>\n",
       "      <th>4</th>\n",
       "      <td>771.369841</td>\n",
       "    </tr>\n",
       "    <tr>\n",
       "      <th>5</th>\n",
       "      <td>-141.681917</td>\n",
       "    </tr>\n",
       "    <tr>\n",
       "      <th>6</th>\n",
       "      <td>328.733981</td>\n",
       "    </tr>\n",
       "    <tr>\n",
       "      <th>7</th>\n",
       "      <td>1066.695111</td>\n",
       "    </tr>\n",
       "    <tr>\n",
       "      <th>8</th>\n",
       "      <td>774.439376</td>\n",
       "    </tr>\n",
       "    <tr>\n",
       "      <th>9</th>\n",
       "      <td>744.455297</td>\n",
       "    </tr>\n",
       "    <tr>\n",
       "      <th>10</th>\n",
       "      <td>504.827228</td>\n",
       "    </tr>\n",
       "    <tr>\n",
       "      <th>11</th>\n",
       "      <td>200.872151</td>\n",
       "    </tr>\n",
       "    <tr>\n",
       "      <th>12</th>\n",
       "      <td>39.559779</td>\n",
       "    </tr>\n",
       "    <tr>\n",
       "      <th>13</th>\n",
       "      <td>744.923788</td>\n",
       "    </tr>\n",
       "    <tr>\n",
       "      <th>14</th>\n",
       "      <td>739.107386</td>\n",
       "    </tr>\n",
       "    <tr>\n",
       "      <th>15</th>\n",
       "      <td>189.270978</td>\n",
       "    </tr>\n",
       "    <tr>\n",
       "      <th>16</th>\n",
       "      <td>253.144277</td>\n",
       "    </tr>\n",
       "    <tr>\n",
       "      <th>17</th>\n",
       "      <td>187.423788</td>\n",
       "    </tr>\n",
       "    <tr>\n",
       "      <th>18</th>\n",
       "      <td>43.395177</td>\n",
       "    </tr>\n",
       "    <tr>\n",
       "      <th>19</th>\n",
       "      <td>521.414405</td>\n",
       "    </tr>\n",
       "  </tbody>\n",
       "</table>\n",
       "</div>"
      ],
      "text/plain": [
       "    Predicted Weight\n",
       "0         127.447941\n",
       "1           9.613712\n",
       "2         111.450629\n",
       "3         898.361759\n",
       "4         771.369841\n",
       "5        -141.681917\n",
       "6         328.733981\n",
       "7        1066.695111\n",
       "8         774.439376\n",
       "9         744.455297\n",
       "10        504.827228\n",
       "11        200.872151\n",
       "12         39.559779\n",
       "13        744.923788\n",
       "14        739.107386\n",
       "15        189.270978\n",
       "16        253.144277\n",
       "17        187.423788\n",
       "18         43.395177\n",
       "19        521.414405"
      ]
     },
     "execution_count": 101,
     "metadata": {},
     "output_type": "execute_result"
    }
   ],
   "source": [
    "y_pred_inf = pd.DataFrame(y_pred_inf, columns=['Predicted Weight'])\n",
    "y_pred_inf "
   ]
  },
  {
   "cell_type": "markdown",
   "metadata": {},
   "source": [
    "## Conclusion"
   ]
  },
  {
   "cell_type": "markdown",
   "metadata": {},
   "source": [
    "Kesimpulan yang dapat ditarik dari hasil EDA dan pemodelan dengan model Linear Regression ini adalah:\n",
    "\n",
    "Dataset ini mencatat data dari 7 spesies ikan umum yang berbeda dalam penjualan pasar ikan. Dengan dataset ini, model prediksi dapat dilakukan dengan menggunakan data yang ramah mesin dan perkiraan berat ikan dapat diprediksi. Diketahui dari EDA, bahwa semua kolom numerik dan mayoritas jenis ikan dari kolom spesies memiliki korelasi yang tinggi dengan kolom target. Spesies ikan bream merupakan jenis ikan terbanyak yang terdapat pada dataset, dan juga memiliki nilai tinggi terbesar dibandingkan dengan spesies lainnya. Melainkan mayoritas ikan smelt merupakan ikan yang memiliki overall dengan nilai terkecil pada semua kolom.\n",
    "\n",
    "Dari hasil EDA tersebut, maka feature yang digunakan untuk melatih model yaitu semua kolom. Lalu, didapatkan hasil dari model **Linear Regression** dimana model tersebut menghasilkan akurasi yang tinggi dengan **R2 Score 0.94** dan **MAE 57.41737064146463** pada training setnya dan pada testing setnya mendapat **R2 Score 0.91** dan **MAE 78.40373435716334**, dimana score-score tersebut tergolong goodfit."
   ]
  },
  {
   "cell_type": "code",
   "execution_count": 102,
   "metadata": {},
   "outputs": [],
   "source": [
    "# File PKL\n",
    "\n",
    "with open(\"pipe.pkl\", \"wb\") as a:\n",
    "    pickle.dump(best_linear, a)\n",
    "    \n",
    "with open(\"pipe.pkl\", \"rb\") as a:\n",
    "    pipeline = pickle.load(a)"
   ]
  }
 ],
 "metadata": {
  "interpreter": {
   "hash": "112f40161e87cdf99d798de2b86adf76c0b833717b9d65fa1f256b9c887e27bf"
  },
  "kernelspec": {
   "display_name": "Python 3.9.1 64-bit",
   "language": "python",
   "name": "python3"
  },
  "language_info": {
   "codemirror_mode": {
    "name": "ipython",
    "version": 3
   },
   "file_extension": ".py",
   "mimetype": "text/x-python",
   "name": "python",
   "nbconvert_exporter": "python",
   "pygments_lexer": "ipython3",
   "version": "3.9.7"
  },
  "orig_nbformat": 4
 },
 "nbformat": 4,
 "nbformat_minor": 2
}
